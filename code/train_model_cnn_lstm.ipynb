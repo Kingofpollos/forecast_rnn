{
  "cells": [
    {
      "cell_type": "code",
      "execution_count": 2,
      "metadata": {
        "id": "oINUI50l5-Hc"
      },
      "outputs": [],
      "source": [
        "from re import S\n",
        "import torch\n",
        "import torch.nn as nn\n",
        "import torch.optim as optim\n",
        "import numpy as np\n",
        "import pandas as pd\n",
        "from torch.utils.data import DataLoader, TensorDataset\n",
        "from sklearn.model_selection import train_test_split"
      ]
    },
    {
      "cell_type": "code",
      "execution_count": 3,
      "metadata": {
        "colab": {
          "base_uri": "https://localhost:8080/"
        },
        "id": "uBArSB5t6Jyc",
        "outputId": "d772d076-7898-4adb-b439-dd1359e88f60"
      },
      "outputs": [
        {
          "name": "stdout",
          "output_type": "stream",
          "text": [
            "cuda\n"
          ]
        }
      ],
      "source": [
        "device = torch.device(\"cuda\" if torch.cuda.is_available() else \"cpu\")\n",
        "print(device)"
      ]
    },
    {
      "cell_type": "markdown",
      "metadata": {
        "id": "mN4FGVELlAtX"
      },
      "source": [
        "# Carga de datos"
      ]
    },
    {
      "cell_type": "code",
      "execution_count": 4,
      "metadata": {
        "id": "_ERrSl2x6J05"
      },
      "outputs": [],
      "source": [
        "df = pd.read_csv('close_normalized_prices.csv')\n",
        "df['X'] = df['X'].apply(lambda x: np.fromstring(x.strip(\"[]\"), sep=' '))\n",
        "df['Y'] = df['Y'].apply(lambda x: np.fromstring(x.strip(\"[]\"), sep=' '))"
      ]
    },
    {
      "cell_type": "markdown",
      "metadata": {
        "id": "mxg19-r2nnvR"
      },
      "source": [
        "# Division train-test"
      ]
    },
    {
      "cell_type": "code",
      "execution_count": 5,
      "metadata": {
        "id": "l3weKfJ6nmjZ"
      },
      "outputs": [],
      "source": [
        "X_train, X_test, y_train, y_test = train_test_split(np.stack(df.X.to_numpy()).astype(np.float32),\n",
        "                                                    np.stack(df.Y.to_numpy()).astype(np.float32),\n",
        "                                                    test_size=0.25,\n",
        "                                                    random_state=42)"
      ]
    },
    {
      "cell_type": "markdown",
      "metadata": {
        "id": "zAWsJsr3oX-5"
      },
      "source": [
        "# Conversión a tensores"
      ]
    },
    {
      "cell_type": "code",
      "execution_count": 6,
      "metadata": {
        "id": "iLMOxpIQ6xH1"
      },
      "outputs": [],
      "source": [
        "X_train = torch.tensor(X_train, dtype=torch.float32).unsqueeze(1)  # (N, 1, seq_length)\n",
        "y_train = torch.tensor(y_train, dtype=torch.float32)\n",
        "\n",
        "X_test = torch.tensor(X_test, dtype=torch.float32).unsqueeze(1)  # (N, 1, seq_length)\n",
        "y_test = torch.tensor(y_test, dtype=torch.float32)"
      ]
    },
    {
      "cell_type": "markdown",
      "metadata": {
        "id": "6Oy5imLlozhH"
      },
      "source": [
        "# Dataloaders"
      ]
    },
    {
      "cell_type": "code",
      "execution_count": 7,
      "metadata": {
        "id": "GBfBnQHP6ypj"
      },
      "outputs": [],
      "source": [
        "# Crear DataLoaders\n",
        "batch_size = 100\n",
        "train_dataset = TensorDataset(X_train, y_train)\n",
        "test_dataset = TensorDataset(X_test, y_test)"
      ]
    },
    {
      "cell_type": "code",
      "execution_count": 8,
      "metadata": {
        "id": "4hqF7Hl16ynN"
      },
      "outputs": [],
      "source": [
        "train_loader = DataLoader(train_dataset, batch_size=batch_size, shuffle=True)\n",
        "test_loader = DataLoader(test_dataset, batch_size=batch_size, shuffle=False)"
      ]
    },
    {
      "cell_type": "markdown",
      "metadata": {
        "id": "3oaiEsIhpZbt"
      },
      "source": [
        "# Modelo"
      ]
    },
    {
      "cell_type": "code",
      "execution_count": 9,
      "metadata": {
        "id": "0h8KEcJs63M6"
      },
      "outputs": [],
      "source": [
        "class CNN_LSTM(nn.Module):\n",
        "\n",
        "  def __init__(self):\n",
        "    super(CNN_LSTM, self).__init__()\n",
        "    # Capa Conv1D para extracción de características espaciales\n",
        "    self.conv1 = nn.Conv1d(in_channels=1, out_channels=64, kernel_size=5, padding=1)\n",
        "    self.conv2 = nn.Conv1d(in_channels=64, out_channels=128, kernel_size=5, padding=1)\n",
        "    self.conv3 = nn.Conv1d(in_channels=128, out_channels=256, kernel_size=5, padding=1)\n",
        "\n",
        "    # Batch normalization\n",
        "    self.bn1 = nn.BatchNorm1d(64)\n",
        "    self.bn2 = nn.BatchNorm1d(128)\n",
        "    self.bn3 = nn.BatchNorm1d(256)\n",
        "\n",
        "    # Max Pool\n",
        "    self.pool = nn.MaxPool1d(kernel_size=2)\n",
        "\n",
        "    # Dropout\n",
        "    self.dropout_layer = nn.Dropout(p=0.15)\n",
        "\n",
        "    # ReLu\n",
        "    self.relu = nn.ReLU()\n",
        "\n",
        "    # Capa LSTM\n",
        "    self.lstm = nn.LSTM(input_size=256, hidden_size=64, num_layers=3, batch_first=True)\n",
        "\n",
        "    # Capa Fully Connected\n",
        "    self.fc1 = nn.Linear(64, 32)  # Predecir 5 valores\n",
        "    self.fc2 = nn.Linear(32, 16)  # Predecir un solo valor\n",
        "    self.fc3 = nn.Linear(16, 5)  # Predecir un solo valor\n",
        "\n",
        "    # Inicialización de pesos\n",
        "    self._initialize_weights()\n",
        "\n",
        "  def _initialize_weights(self):\n",
        "    for m in self.modules():\n",
        "      if isinstance(m, nn.Conv1d) or isinstance(m, nn.Linear):\n",
        "        nn.init.xavier_uniform_(m.weight)\n",
        "        if m.bias is not None:\n",
        "          nn.init.zeros_(m.bias)\n",
        "\n",
        "  def forward(self, x):\n",
        "    # Primer capa completa\n",
        "    x = self.conv1(x)\n",
        "    x = self.bn1(x)\n",
        "    x = self.relu(x)\n",
        "    x = self.pool(x)\n",
        "\n",
        "    # Segunda capa completa\n",
        "    x = self.conv2(x)\n",
        "    x = self.bn2(x)\n",
        "    x = self.relu(x)\n",
        "    x = self.pool(x)\n",
        "\n",
        "    # Tercera capa completa\n",
        "    x = self.conv3(x)\n",
        "    x = self.bn3(x)\n",
        "    x = self.relu(x)\n",
        "    x = self.pool(x)\n",
        "\n",
        "    # Reordenar datos\n",
        "    # Antes batch, channels, seq_length\n",
        "    x = x.permute(0, 2, 1)\n",
        "    # Después batch, seq_length, features\n",
        "\n",
        "    # Capas LSTM\n",
        "    x, _ = self.lstm(x)\n",
        "\n",
        "    # Se toma la ultima salida de secuencia, que es la representación de la serie\n",
        "    x = x[:, -1, :]\n",
        "\n",
        "    # Capas Fully Connected\n",
        "    x = self.dropout_layer(x)\n",
        "    x = self.fc1(x)\n",
        "    x = self.relu(x)\n",
        "    x = self.dropout_layer(x)\n",
        "    x = self.fc2(x)\n",
        "    x = self.relu(x)\n",
        "    x = self.dropout_layer(x)\n",
        "    x = self.fc3(x)\n",
        "\n",
        "    return x"
      ]
    },
    {
      "cell_type": "markdown",
      "metadata": {
        "id": "BfaemLPmGofJ"
      },
      "source": [
        "# Función de perdida propia"
      ]
    },
    {
      "cell_type": "code",
      "execution_count": 10,
      "metadata": {
        "id": "V6YYUXqmGoHI"
      },
      "outputs": [],
      "source": [
        "class CustomLoss(nn.Module):\n",
        "    def __init__(self):\n",
        "        super(CustomLoss, self).__init__()\n",
        "\n",
        "    def forward(self, y_pred, y_true):\n",
        "        mse = torch.mean(((y_pred - y_true)*100) ** 2)\n",
        "        return mse"
      ]
    },
    {
      "cell_type": "markdown",
      "metadata": {
        "id": "3CK6LHxmvzme"
      },
      "source": [
        "# Train model"
      ]
    },
    {
      "cell_type": "code",
      "execution_count": 11,
      "metadata": {
        "colab": {
          "base_uri": "https://localhost:8080/",
          "height": 373
        },
        "id": "zS3LZBRjGhAE",
        "outputId": "e7fc5a0c-6d6d-4dcd-fd51-9051547eac19"
      },
      "outputs": [
        {
          "name": "stdout",
          "output_type": "stream",
          "text": [
            "Epoch 1/150, Loss: 1075.956070, 32.801769\n",
            "Epoch 2/150, Loss: 1014.380413, 31.849339\n",
            "Epoch 3/150, Loss: 996.035081, 31.560023\n",
            "Epoch 4/150, Loss: 980.949917, 31.320120\n",
            "Epoch 5/150, Loss: 965.900108, 31.078934\n",
            "Epoch 6/150, Loss: 950.620649, 30.832137\n",
            "Epoch 7/150, Loss: 935.516352, 30.586212\n",
            "Epoch 8/150, Loss: 919.497490, 30.323217\n",
            "Epoch 9/150, Loss: 902.999489, 30.049950\n",
            "Epoch 10/150, Loss: 888.420762, 29.806388\n",
            "Epoch 11/150, Loss: 872.761395, 29.542535\n",
            "Epoch 12/150, Loss: 857.859264, 29.289235\n",
            "Epoch 13/150, Loss: 843.595257, 29.044711\n",
            "Epoch 14/150, Loss: 828.275294, 28.779772\n",
            "Epoch 15/150, Loss: 815.347267, 28.554286\n",
            "Epoch 16/150, Loss: 803.747431, 28.350440\n",
            "Epoch 17/150, Loss: 790.398781, 28.114032\n",
            "Epoch 18/150, Loss: 779.530951, 27.920081\n",
            "Epoch 19/150, Loss: 767.889022, 27.710811\n",
            "Epoch 20/150, Loss: 758.146597, 27.534462\n",
            "Epoch 21/150, Loss: 750.681334, 27.398564\n",
            "Epoch 22/150, Loss: 741.454107, 27.229655\n",
            "Epoch 23/150, Loss: 732.815969, 27.070574\n",
            "Epoch 24/150, Loss: 725.238723, 26.930257\n",
            "Epoch 25/150, Loss: 714.077722, 26.722233\n",
            "Epoch 26/150, Loss: 706.411580, 26.578404\n",
            "Epoch 27/150, Loss: 697.989042, 26.419482\n",
            "Epoch 28/150, Loss: 693.336335, 26.331281\n",
            "Epoch 29/150, Loss: 685.761416, 26.187047\n",
            "Epoch 30/150, Loss: 680.473795, 26.085893\n",
            "Epoch 31/150, Loss: 672.884539, 25.940018\n",
            "Epoch 32/150, Loss: 669.520383, 25.875092\n",
            "Epoch 33/150, Loss: 662.580183, 25.740633\n",
            "Epoch 34/150, Loss: 658.067972, 25.652836\n",
            "Epoch 35/150, Loss: 654.160875, 25.576569\n",
            "Epoch 36/150, Loss: 649.725728, 25.489718\n",
            "Epoch 37/150, Loss: 645.240618, 25.401587\n",
            "Epoch 38/150, Loss: 641.098028, 25.319914\n",
            "Epoch 39/150, Loss: 636.906033, 25.236997\n",
            "Epoch 40/150, Loss: 632.789519, 25.155308\n",
            "Epoch 41/150, Loss: 628.875315, 25.077387\n",
            "Epoch 42/150, Loss: 627.568942, 25.051326\n",
            "Epoch 43/150, Loss: 623.738892, 24.974765\n",
            "Epoch 44/150, Loss: 620.413451, 24.908100\n",
            "Epoch 45/150, Loss: 615.954550, 24.818432\n",
            "Epoch 46/150, Loss: 612.838177, 24.755569\n",
            "Epoch 47/150, Loss: 610.716795, 24.712685\n",
            "Epoch 48/150, Loss: 606.994579, 24.637260\n",
            "Epoch 49/150, Loss: 604.165602, 24.579780\n",
            "Epoch 50/150, Loss: 603.546159, 24.567176\n",
            "Epoch 51/150, Loss: 600.303162, 24.501085\n",
            "Epoch 52/150, Loss: 597.765205, 24.449237\n",
            "Epoch 53/150, Loss: 594.965883, 24.391923\n",
            "Epoch 54/150, Loss: 591.784375, 24.326619\n",
            "Epoch 55/150, Loss: 590.696628, 24.304251\n",
            "Epoch 56/150, Loss: 589.422100, 24.278017\n",
            "Epoch 57/150, Loss: 587.018267, 24.228460\n",
            "Epoch 58/150, Loss: 585.288344, 24.192733\n",
            "Epoch 59/150, Loss: 582.366366, 24.132268\n",
            "Epoch 60/150, Loss: 579.513282, 24.073082\n",
            "Epoch 61/150, Loss: 577.994204, 24.041510\n",
            "Epoch 62/150, Loss: 576.556040, 24.011581\n",
            "Epoch 63/150, Loss: 574.373467, 23.966090\n",
            "Epoch 64/150, Loss: 573.174383, 23.941061\n",
            "Epoch 65/150, Loss: 571.645346, 23.909106\n",
            "Epoch 66/150, Loss: 570.189248, 23.878636\n",
            "Epoch 67/150, Loss: 566.992624, 23.811607\n",
            "Epoch 68/150, Loss: 566.800085, 23.807564\n",
            "Epoch 69/150, Loss: 566.368803, 23.798504\n",
            "Epoch 70/150, Loss: 563.460002, 23.737312\n",
            "Epoch 71/150, Loss: 562.029713, 23.707166\n",
            "Epoch 72/150, Loss: 559.712811, 23.658250\n",
            "Epoch 73/150, Loss: 559.466383, 23.653042\n",
            "Epoch 74/150, Loss: 556.939966, 23.599576\n",
            "Epoch 75/150, Loss: 555.890509, 23.577330\n",
            "Epoch 76/150, Loss: 555.429472, 23.567551\n",
            "Epoch 77/150, Loss: 555.199974, 23.562682\n",
            "Epoch 78/150, Loss: 553.327084, 23.522906\n",
            "Epoch 79/150, Loss: 551.025472, 23.473932\n",
            "Epoch 80/150, Loss: 549.634894, 23.444293\n",
            "Epoch 81/150, Loss: 548.151692, 23.412640\n",
            "Epoch 82/150, Loss: 547.596285, 23.400775\n",
            "Epoch 83/150, Loss: 545.937485, 23.365305\n",
            "Epoch 84/150, Loss: 544.196085, 23.328011\n",
            "Epoch 85/150, Loss: 543.298658, 23.308768\n",
            "Epoch 86/150, Loss: 542.764285, 23.297302\n",
            "Epoch 87/150, Loss: 541.778285, 23.276131\n",
            "Epoch 88/150, Loss: 539.710754, 23.231676\n",
            "Epoch 89/150, Loss: 539.156942, 23.219753\n",
            "Epoch 90/150, Loss: 538.123605, 23.197491\n",
            "Epoch 91/150, Loss: 537.051822, 23.174379\n",
            "Epoch 92/150, Loss: 536.559740, 23.163759\n",
            "Epoch 93/150, Loss: 534.907450, 23.128066\n",
            "Epoch 94/150, Loss: 535.476358, 23.140362\n",
            "Epoch 95/150, Loss: 534.507525, 23.119419\n",
            "Epoch 96/150, Loss: 532.585025, 23.077804\n",
            "Epoch 97/150, Loss: 531.234761, 23.048531\n",
            "Epoch 98/150, Loss: 529.281713, 23.006123\n",
            "Epoch 99/150, Loss: 528.763843, 22.994866\n",
            "Epoch 100/150, Loss: 529.068853, 23.001497\n",
            "Epoch 101/150, Loss: 528.478257, 22.988655\n",
            "Epoch 102/150, Loss: 527.171461, 22.960215\n",
            "Epoch 103/150, Loss: 526.304057, 22.941318\n",
            "Epoch 104/150, Loss: 526.828146, 22.952737\n",
            "Epoch 105/150, Loss: 525.463748, 22.922996\n",
            "Epoch 106/150, Loss: 523.949192, 22.889936\n",
            "Epoch 107/150, Loss: 522.632329, 22.861153\n",
            "Epoch 108/150, Loss: 521.760982, 22.842088\n",
            "Epoch 109/150, Loss: 521.340336, 22.832878\n",
            "Epoch 110/150, Loss: 522.207827, 22.851867\n",
            "Epoch 111/150, Loss: 521.371557, 22.833562\n",
            "Epoch 112/150, Loss: 521.117235, 22.827992\n",
            "Epoch 113/150, Loss: 520.234485, 22.808649\n",
            "Epoch 114/150, Loss: 518.765590, 22.776426\n",
            "Epoch 115/150, Loss: 517.665265, 22.752258\n",
            "Epoch 116/150, Loss: 517.353068, 22.745397\n",
            "Epoch 117/150, Loss: 515.859253, 22.712535\n",
            "Epoch 118/150, Loss: 515.267578, 22.699506\n",
            "Epoch 119/150, Loss: 514.311295, 22.678432\n",
            "Epoch 120/150, Loss: 512.742632, 22.643821\n",
            "Epoch 121/150, Loss: 514.434305, 22.681144\n",
            "Epoch 122/150, Loss: 513.732733, 22.665673\n",
            "Epoch 123/150, Loss: 512.410083, 22.636477\n",
            "Epoch 124/150, Loss: 512.721113, 22.643346\n",
            "Epoch 125/150, Loss: 512.229943, 22.632498\n",
            "Epoch 126/150, Loss: 510.369759, 22.591365\n",
            "Epoch 127/150, Loss: 509.885305, 22.580640\n",
            "Epoch 128/150, Loss: 508.988668, 22.560777\n",
            "Epoch 129/150, Loss: 509.794318, 22.578625\n",
            "Epoch 130/150, Loss: 509.501267, 22.572135\n",
            "Epoch 131/150, Loss: 508.792793, 22.556436\n",
            "Epoch 132/150, Loss: 508.113275, 22.541368\n",
            "Epoch 133/150, Loss: 507.363815, 22.524738\n",
            "Epoch 134/150, Loss: 505.706054, 22.487909\n",
            "Epoch 135/150, Loss: 507.109531, 22.519093\n",
            "Epoch 136/150, Loss: 505.323935, 22.479411\n",
            "Epoch 137/150, Loss: 505.088849, 22.474182\n",
            "Epoch 138/150, Loss: 504.075879, 22.451634\n",
            "Epoch 139/150, Loss: 503.097995, 22.429846\n",
            "Epoch 140/150, Loss: 503.545905, 22.439829\n",
            "Epoch 141/150, Loss: 502.989694, 22.427432\n",
            "Epoch 142/150, Loss: 502.458695, 22.415590\n",
            "Epoch 143/150, Loss: 501.430451, 22.392643\n",
            "Epoch 144/150, Loss: 501.205113, 22.387611\n",
            "Epoch 145/150, Loss: 501.951439, 22.404273\n",
            "Epoch 146/150, Loss: 501.237359, 22.388331\n",
            "Epoch 147/150, Loss: 499.805269, 22.356325\n",
            "Epoch 148/150, Loss: 498.924542, 22.336619\n",
            "Epoch 149/150, Loss: 498.601031, 22.329376\n",
            "Epoch 150/150, Loss: 498.968175, 22.337596\n"
          ]
        },
        {
          "data": {
            "image/png": "[encoded data removed]",
            "text/plain": [
              "<Figure size 640x480 with 1 Axes>"
            ]
          },
          "metadata": {},
          "output_type": "display_data"
        }
      ],
      "source": [
        "import math\n",
        "device = torch.device(\"cuda\" if torch.cuda.is_available() else \"cpu\")\n",
        "model = CNN_LSTM().to(device)\n",
        "criterion = CustomLoss()\n",
        "optimizer = optim.Adam(model.parameters(), lr=0.001, weight_decay=1e-5)\n",
        "epochs = 150\n",
        "losses = list()\n",
        "for epoch in range(epochs):\n",
        "    model.train()\n",
        "    total_loss = 0\n",
        "    for X_batch, y_batch in train_loader:\n",
        "        X_batch, y_batch = X_batch.to(device), y_batch.to(device)\n",
        "\n",
        "        optimizer.zero_grad()\n",
        "        y_pred = model(X_batch)\n",
        "        loss = criterion(y_pred, y_batch)\n",
        "        loss.backward()\n",
        "        optimizer.step()\n",
        "\n",
        "        total_loss += loss.item()\n",
        "        train_loss = total_loss / len(train_loader)\n",
        "    losses.append(train_loss)\n",
        "\n",
        "    print(f\"Epoch {epoch+1}/{epochs}, Loss: {train_loss:.6f}, {math.sqrt(train_loss):.6f}\")\n",
        "\n",
        "import matplotlib.pyplot as plt\n",
        "plt.plot(losses)\n",
        "plt.xlabel('Epochs')\n",
        "plt.ylabel('Loss')\n",
        "plt.title('Training Loss')\n",
        "plt.grid()\n",
        "plt.show()"
      ]
    },
    {
      "cell_type": "code",
      "execution_count": 12,
      "metadata": {
        "id": "-QZG9q566ylB"
      },
      "outputs": [],
      "source": [
        "model.eval()\n",
        "predictions = []\n",
        "actuals = []\n",
        "\n",
        "# Score en test\n",
        "with torch.no_grad():\n",
        "    for X_batch, y_batch in test_loader:\n",
        "        X_batch, y_batch = X_batch.to(device), y_batch.to(device)\n",
        "        y_pred = model(X_batch)\n",
        "\n",
        "        predictions.append(y_pred.cpu().numpy())\n",
        "        actuals.append(y_batch.cpu().numpy())\n",
        "\n",
        "# Convertir listas en arrays\n",
        "predictions_test = np.concatenate(predictions).reshape(-1, 5)\n",
        "actuals_test = np.concatenate(actuals).reshape(-1, 5)\n",
        "\n",
        "# Score en train\n",
        "with torch.no_grad():\n",
        "    for X_batch, y_batch in train_loader:\n",
        "        X_batch, y_batch = X_batch.to(device), y_batch.to(device)\n",
        "        y_pred = model(X_batch)\n",
        "\n",
        "        predictions.append(y_pred.cpu().numpy())\n",
        "        actuals.append(y_batch.cpu().numpy())\n",
        "\n",
        "# Convertir listas en arrays\n",
        "predictions_train = np.concatenate(predictions).reshape(-1, 5)\n",
        "actuals_train = np.concatenate(actuals).reshape(-1, 5)"
      ]
    },
    {
      "cell_type": "code",
      "execution_count": 13,
      "metadata": {
        "id": "VtM2sOEp6yiZ"
      },
      "outputs": [
        {
          "name": "stdout",
          "output_type": "stream",
          "text": [
            "Evaluación del modelo:\n",
            "MAE Train: 0.16962662 MAE Test: 0.22214572\n",
            "MSE Train: 0.05910387 MSE Test: 0.108236544\n",
            "RMSE Train: 0.24311288 RMSE Test: 0.32899323\n"
          ]
        }
      ],
      "source": [
        "print(\"Evaluación del modelo:\")\n",
        "print(\"MAE Train:\", np.mean(np.abs(predictions_train - actuals_train)),\n",
        "      \"MAE Test:\", np.mean(np.abs(predictions_test - actuals_test)))\n",
        "print(\"MSE Train:\", np.mean((predictions_train - actuals_train) ** 2),\n",
        "      \"MSE Test:\", np.mean((predictions_test - actuals_test) ** 2))\n",
        "print(\"RMSE Train:\", np.sqrt(np.mean((predictions_train - actuals_train) ** 2)),\n",
        "      \"RMSE Test:\", np.sqrt(np.mean((predictions_test - actuals_test) ** 2)))"
      ]
    },
    {
      "cell_type": "markdown",
      "metadata": {},
      "source": [
        "**V1 eval (20 epochs)**\n",
        "\n",
        "Evaluación del modelo:\n",
        "\n",
        "MAE Train: 0.19001389 MAE Test: 0.20664866\n",
        "\n",
        "MSE Train: 0.07552329 MSE Test: 0.09422373\n",
        "\n",
        "RMSE Train: 0.274815 RMSE Test: 0.30695885\n",
        "\n",
        "**V1 eval (50 epochs)**\n",
        "\n",
        "Evaluación del modelo:\n",
        "\n",
        "MAE Train: 0.1813991 MAE Test: 0.21548034\n",
        "\n",
        "MSE Train: 0.06661031 MSE Test: 0.10138324\n",
        "\n",
        "RMSE Train: 0.25808972 RMSE Test: 0.31840736\n",
        "\n",
        "**V1 eval (150 epochs)**\n",
        "\n",
        "MAE Train: 0.16962662 MAE Test: 0.22214572\n",
        "\n",
        "MSE Train: 0.05910387 MSE Test: 0.108236544\n",
        "\n",
        "RMSE Train: 0.24311288 RMSE Test: 0.32899323"
      ]
    },
    {
      "cell_type": "code",
      "execution_count": 14,
      "metadata": {
        "id": "RSCsJRXw6ygD"
      },
      "outputs": [],
      "source": [
        "torch.save(model.state_dict(), \"../weights/cnn_lstm_v1_weights_3.pth\")\n",
        "torch.save(model, \"../models/cnn_lstm_v1_model_3.pth\")"
      ]
    },
    {
      "cell_type": "code",
      "execution_count": null,
      "metadata": {
        "id": "AwxJkDgo6ydY"
      },
      "outputs": [],
      "source": []
    }
  ],
  "metadata": {
    "accelerator": "GPU",
    "colab": {
      "gpuType": "T4",
      "provenance": []
    },
    "kernelspec": {
      "display_name": "base",
      "language": "python",
      "name": "python3"
    },
    "language_info": {
      "codemirror_mode": {
        "name": "ipython",
        "version": 3
      },
      "file_extension": ".py",
      "mimetype": "text/x-python",
      "name": "python",
      "nbconvert_exporter": "python",
      "pygments_lexer": "ipython3",
      "version": "3.11.7"
    }
  },
  "nbformat": 4,
  "nbformat_minor": 0
}

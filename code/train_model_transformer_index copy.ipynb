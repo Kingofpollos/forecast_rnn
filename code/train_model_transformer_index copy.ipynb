{
  "cells": [
    {
      "cell_type": "code",
      "execution_count": 3,
      "metadata": {
        "id": "oINUI50l5-Hc"
      },
      "outputs": [],
      "source": [
        "from re import S\n",
        "import torch\n",
        "import torch.nn as nn\n",
        "import torch.optim as optim\n",
        "import numpy as np\n",
        "import pandas as pd\n",
        "from torch.utils.data import DataLoader, TensorDataset\n",
        "from sklearn.model_selection import train_test_split\n",
        "import torch.nn.init as init\n",
        "\n",
        "import math\n",
        "import matplotlib.pyplot as plt\n"
      ]
    },
    {
      "cell_type": "code",
      "execution_count": 4,
      "metadata": {
        "colab": {
          "base_uri": "https://localhost:8080/"
        },
        "id": "uBArSB5t6Jyc",
        "outputId": "d772d076-7898-4adb-b439-dd1359e88f60"
      },
      "outputs": [
        {
          "name": "stdout",
          "output_type": "stream",
          "text": [
            "cuda\n"
          ]
        }
      ],
      "source": [
        "device = torch.device(\"cuda\" if torch.cuda.is_available() else \"cpu\")\n",
        "print(device)"
      ]
    },
    {
      "cell_type": "markdown",
      "metadata": {
        "id": "mN4FGVELlAtX"
      },
      "source": [
        "# Carga de datos"
      ]
    },
    {
      "cell_type": "code",
      "execution_count": 5,
      "metadata": {
        "id": "_ERrSl2x6J05"
      },
      "outputs": [],
      "source": [
        "df = pd.read_csv('close_normalized_prices_index.csv')\n",
        "# df['X'] = df['X'].apply(lambda x: np.fromstring(x.strip(\"[]\"), sep=' '))\n",
        "df['Y'] = df['Y'].apply(lambda x: np.fromstring(x.strip(\"[]\"), sep=' '))"
      ]
    },
    {
      "cell_type": "code",
      "execution_count": 6,
      "metadata": {},
      "outputs": [],
      "source": [
        "df['X'] = df['X'].apply(lambda x:np.fromstring(x.replace('[', '').replace(']', '').replace('\\n', ' '), sep=' ').reshape(14, 28))"
      ]
    },
    {
      "cell_type": "markdown",
      "metadata": {
        "id": "mxg19-r2nnvR"
      },
      "source": [
        "# Division train-test"
      ]
    },
    {
      "cell_type": "code",
      "execution_count": 7,
      "metadata": {
        "id": "l3weKfJ6nmjZ"
      },
      "outputs": [],
      "source": [
        "X_train, X_test, y_train, y_test = train_test_split(np.stack(df.X.to_numpy()).astype(np.float32),\n",
        "                                                    np.stack(df.Y.to_numpy()).astype(np.float32),\n",
        "                                                    test_size=0.30,\n",
        "                                                    random_state=42)\n",
        "\n",
        "X_val, X_test, y_val, y_test = train_test_split(X_test,\n",
        "                                                    y_test,\n",
        "                                                    test_size=0.50,\n",
        "                                                    random_state=42)"
      ]
    },
    {
      "cell_type": "markdown",
      "metadata": {
        "id": "zAWsJsr3oX-5"
      },
      "source": [
        "# Conversión a tensores"
      ]
    },
    {
      "cell_type": "code",
      "execution_count": 8,
      "metadata": {
        "id": "iLMOxpIQ6xH1"
      },
      "outputs": [],
      "source": [
        "X_train = torch.tensor(X_train, dtype=torch.float32).reshape(-1, 14, 28)\n",
        "y_train = torch.tensor(y_train, dtype=torch.float32)\n",
        "\n",
        "X_test = torch.tensor(X_test, dtype=torch.float32).reshape(-1, 14, 28)\n",
        "y_test = torch.tensor(y_test, dtype=torch.float32)\n",
        "\n",
        "X_val = torch.tensor(X_val, dtype=torch.float32).reshape(-1, 14, 28)\n",
        "y_val = torch.tensor(y_val, dtype=torch.float32)"
      ]
    },
    {
      "cell_type": "markdown",
      "metadata": {
        "id": "6Oy5imLlozhH"
      },
      "source": [
        "# Dataloaders"
      ]
    },
    {
      "cell_type": "code",
      "execution_count": 9,
      "metadata": {
        "id": "GBfBnQHP6ypj"
      },
      "outputs": [],
      "source": [
        "# Crear DataLoaders\n",
        "batch_size = 100\n",
        "train_dataset = TensorDataset(X_train, y_train)\n",
        "test_dataset = TensorDataset(X_test, y_test)\n",
        "val_dataset = TensorDataset(X_val, y_val)"
      ]
    },
    {
      "cell_type": "code",
      "execution_count": 10,
      "metadata": {
        "id": "4hqF7Hl16ynN"
      },
      "outputs": [],
      "source": [
        "train_loader = DataLoader(train_dataset, batch_size=batch_size, shuffle=True)\n",
        "test_loader = DataLoader(test_dataset, batch_size=batch_size, shuffle=False)\n",
        "val_loader = DataLoader(val_dataset, batch_size=batch_size, shuffle=False)"
      ]
    },
    {
      "cell_type": "markdown",
      "metadata": {
        "id": "3oaiEsIhpZbt"
      },
      "source": [
        "# Modelo"
      ]
    },
    {
      "cell_type": "code",
      "execution_count": 11,
      "metadata": {
        "id": "0h8KEcJs63M6"
      },
      "outputs": [],
      "source": [
        "class TransformerForecast(nn.Module):\n",
        "    def __init__(self, input_size, output_size, num_features, d_model=64, nhead=10, num_layers=4, dim_feedforward=256, dropout=0.1):\n",
        "        super(TransformerForecast, self).__init__()\n",
        "        self.input_size = input_size\n",
        "        self.output_size = output_size\n",
        "        self.num_features = num_features\n",
        "        self.d_model = d_model\n",
        "\n",
        "        # 📌 Capa de Convolución para extraer características locales\n",
        "        self.conv1_src = nn.Conv1d(in_channels=num_features, out_channels=64, kernel_size=5, padding=1)  # Conv1d (convolución 1D)\n",
        "        self.conv2_src = nn.Conv1d(in_channels=64, out_channels=128, kernel_size=4, padding=1)\n",
        "        self.conv3_src = nn.Conv1d(in_channels=128, out_channels=d_model, kernel_size=3, padding=1)  # Conv final\n",
        "\n",
        "        self.conv1_tgt = nn.Conv1d(in_channels=num_features, out_channels=64, kernel_size=3, padding=1)  # Conv1d (convolución 1D)\n",
        "        self.conv2_tgt = nn.Conv1d(in_channels=64, out_channels=128, kernel_size=2, padding=1)\n",
        "        self.conv3_tgt = nn.Conv1d(in_channels=128, out_channels=d_model, kernel_size=2, padding=1)  # Conv final\n",
        "\n",
        "        # 📌 ReLu\n",
        "        self.relu = nn.ReLU()\n",
        "\n",
        "        # 📌 Batch Normalization\n",
        "        self.batch_norm = nn.BatchNorm1d(d_model)  # BatchNorm sobre las salidas de la convolución\n",
        "        self.batch_norm1 = nn.BatchNorm1d(64) # BatchNorm sobre las salidas de la convolución\n",
        "        self.batch_norm2 = nn.BatchNorm1d(128)\n",
        "        self.batch_norm3 = nn.BatchNorm1d(d_model)  \n",
        "\n",
        "        # Max Pool\n",
        "        self.pool = nn.MaxPool1d(kernel_size=2)\n",
        "\n",
        "        # 📌 Positional Encoding (sin longitud fija, se genera dinámicamente)\n",
        "        self.pos_encoding = nn.Parameter(torch.randn(input_size, d_model))\n",
        "\n",
        "        # 📌 Dropout\n",
        "        self.dropout = nn.Dropout(dropout)\n",
        "\n",
        "        # 📌 Encoder Transformer\n",
        "        encoder_layers = nn.TransformerEncoderLayer(d_model=d_model, nhead=nhead, dim_feedforward=dim_feedforward, dropout=dropout)\n",
        "        self.encoder = nn.TransformerEncoder(encoder_layers, num_layers=num_layers)\n",
        "\n",
        "        # 📌 Decoder Transformer\n",
        "        decoder_layers = nn.TransformerDecoderLayer(d_model=d_model, nhead=nhead, dim_feedforward=dim_feedforward, dropout=dropout)\n",
        "        self.decoder = nn.TransformerDecoder(decoder_layers, num_layers=num_layers)\n",
        "\n",
        "        # 📌 Capa Fully Connected para predecir una variable en los 5 pasos futuros\n",
        "        self.fc = nn.Linear(d_model, output_size)\n",
        "\n",
        "        # 📌 Inicialización Xavier para las capas lineales\n",
        "        self._initialize_weights()\n",
        "\n",
        "    def forward(self, src, tgt=None):\n",
        "        # 📌 Codificar entrada con embedding\n",
        "        # src = src.permute(2, 0, 1)\n",
        "        \n",
        "        # Inicializamos `tgt` con ceros si no se proporciona (típico en forecasting)\n",
        "        if tgt is None:\n",
        "            tgt = torch.zeros(src.shape[0], self.num_features, self.output_size).to(src.device)\n",
        "        #print(src.shape, tgt.shape)\n",
        "        #Convolución src\n",
        "        src = self.conv1_src(src)\n",
        "        src = self.batch_norm1(src)\n",
        "        src = self.relu(src)\n",
        "        src = self.pool(src)\n",
        "\n",
        "        src = self.conv2_src(src)\n",
        "        src = self.batch_norm2(src)\n",
        "        src = self.relu(src)\n",
        "        src = self.pool(src)\n",
        "\n",
        "        src = self.conv3_src(src)\n",
        "        src = self.batch_norm3(src)\n",
        "        src = self.relu(src)\n",
        "        src = self.pool(src)\n",
        "\n",
        "        #Convolución tgt\n",
        "        tgt = self.conv1_tgt(tgt)\n",
        "        tgt = self.batch_norm1(tgt)\n",
        "        tgt = self.relu(tgt)\n",
        "        tgt = self.pool(tgt)\n",
        "\n",
        "        tgt = self.conv2_tgt(tgt)\n",
        "        tgt = self.batch_norm2(tgt)\n",
        "        tgt = self.relu(tgt)\n",
        "        tgt = self.pool(tgt)\n",
        "\n",
        "        tgt = self.conv3_tgt(tgt)\n",
        "        tgt = self.batch_norm3(tgt)\n",
        "        tgt = self.relu(tgt)\n",
        "        tgt = self.pool(tgt)\n",
        "\n",
        "        # 📌 Aplicar embedding a `src` y `tgt` y añadir el Positional Encoding\n",
        "        #print(\"pos encoding\", self.pos_encoding.shape)\n",
        "        pos_encoding_src = self.pos_encoding[:src.size(2), :].permute(1, 0).unsqueeze(0).expand(src.size(0), -1, -1)\n",
        "        pos_encoding_tgt = self.pos_encoding[:tgt.size(2), :].permute(1, 0).unsqueeze(0).expand(tgt.size(0), -1, -1)\n",
        "        \n",
        "        # Aplicar el embedding y el Positional Encoding a `src` y `tgt`\n",
        "        #print(src.shape, pos_encoding_src.shape)\n",
        "        src = src + pos_encoding_src\n",
        "        tgt = tgt + pos_encoding_tgt\n",
        "\n",
        "        # 📌 Aplicar Batch Normalization y Dropout\n",
        "        src = self.batch_norm(src)  # BatchNorm requiere (batch, features, seq_len)\n",
        "        src = self.dropout(src).permute(2, 0, 1)\n",
        "\n",
        "        tgt = self.batch_norm(tgt)  # BatchNorm requiere (batch, features, seq_len)\n",
        "        tgt = self.dropout(tgt).permute(2, 0, 1)\n",
        "\n",
        "        #print(src.shape, tgt.shape)\n",
        "        # 📌 Pasar por el Transformer Encoder y Decoder\n",
        "        memory = self.encoder(src)\n",
        "        output = self.decoder(tgt, memory)\n",
        "\n",
        "        # 📌 Transformar la salida de forma adecuada\n",
        "        output = self.fc(output)\n",
        "        output = output[-1, :, :]  # Tomar la salida del último paso para predecir 5 pasos\n",
        "\n",
        "        return output\n",
        "\n",
        "    def _initialize_weights(self):\n",
        "        # Inicialización Xavier para las capas lineales\n",
        "        for name, param in self.named_parameters():\n",
        "            try:\n",
        "                if 'weight' in name:\n",
        "                    if 'fc' in name:\n",
        "                        init.xavier_uniform_(param)  # Xavier para la capa fully connected\n",
        "                    else:\n",
        "                        init.xavier_normal_(param)  # Xavier normal para las demás capas lineales\n",
        "                elif 'bias' in name:\n",
        "                    init.zeros_(param)  # Inicialización de los bias a cero\n",
        "            except Exception as e:\n",
        "                pass"
      ]
    },
    {
      "cell_type": "markdown",
      "metadata": {
        "id": "BfaemLPmGofJ"
      },
      "source": [
        "# Función de perdida propia"
      ]
    },
    {
      "cell_type": "code",
      "execution_count": 12,
      "metadata": {
        "id": "V6YYUXqmGoHI"
      },
      "outputs": [],
      "source": [
        "class CustomLoss(nn.Module):\n",
        "    def __init__(self):\n",
        "        super(CustomLoss, self).__init__()\n",
        "\n",
        "    def forward(self, y_pred, y_true):\n",
        "        mse = torch.mean(((y_pred - y_true)*100) ** 2)\n",
        "        return mse"
      ]
    },
    {
      "cell_type": "markdown",
      "metadata": {
        "id": "3CK6LHxmvzme"
      },
      "source": [
        "# Train model"
      ]
    },
    {
      "cell_type": "code",
      "execution_count": 13,
      "metadata": {
        "colab": {
          "base_uri": "https://localhost:8080/",
          "height": 373
        },
        "id": "zS3LZBRjGhAE",
        "outputId": "e7fc5a0c-6d6d-4dcd-fd51-9051547eac19"
      },
      "outputs": [
        {
          "name": "stderr",
          "output_type": "stream",
          "text": [
            "c:\\Users\\rodri\\anaconda3\\Lib\\site-packages\\torch\\nn\\modules\\transformer.py:385: UserWarning: enable_nested_tensor is True, but self.use_nested_tensor is False because encoder_layer.self_attn.batch_first was not True(use batch_first for better inference performance)\n",
            "  warnings.warn(\n"
          ]
        },
        {
          "name": "stdout",
          "output_type": "stream",
          "text": [
            "Epoch 1/600, Train Loss: 1286.005556, Val Loss: 1396.132504\n",
            "Epoch 2/600, Train Loss: 1045.735399, Val Loss: 1726.243659\n",
            "Epoch 3/600, Train Loss: 1022.753133, Val Loss: 1529.380589\n",
            "Epoch 4/600, Train Loss: 1007.319450, Val Loss: 2260.861226\n",
            "Epoch 5/600, Train Loss: 993.782622, Val Loss: 2768.133178\n",
            "Epoch 6/600, Train Loss: 982.302131, Val Loss: 2851.574258\n",
            "Epoch 7/600, Train Loss: 971.854600, Val Loss: 3656.465345\n",
            "Epoch 8/600, Train Loss: 962.890033, Val Loss: 2937.160146\n",
            "Epoch 9/600, Train Loss: 954.245298, Val Loss: 4814.248492\n",
            "Epoch 10/600, Train Loss: 947.647866, Val Loss: 5362.202293\n",
            "Epoch 11/600, Train Loss: 940.776950, Val Loss: 3496.369057\n",
            "Epoch 12/600, Train Loss: 933.132147, Val Loss: 4175.633141\n",
            "Epoch 13/600, Train Loss: 926.442287, Val Loss: 3421.660657\n",
            "Epoch 14/600, Train Loss: 921.143089, Val Loss: 3530.995877\n",
            "Epoch 15/600, Train Loss: 915.374156, Val Loss: 4455.667485\n",
            "Epoch 16/600, Train Loss: 909.427182, Val Loss: 6217.994788\n",
            "Epoch 17/600, Train Loss: 905.367537, Val Loss: 6010.393097\n",
            "Epoch 18/600, Train Loss: 899.297328, Val Loss: 2749.248214\n",
            "Epoch 19/600, Train Loss: 894.894436, Val Loss: 3565.737909\n",
            "Epoch 20/600, Train Loss: 888.832154, Val Loss: 5851.959899\n",
            "Epoch 21/600, Train Loss: 886.240875, Val Loss: 4150.301272\n",
            "Early stopping triggered at epoch 21\n"
          ]
        },
        {
          "data": {
            "image/png": "[encoded data removed]",
            "text/plain": [
              "<Figure size 1600x1000 with 1 Axes>"
            ]
          },
          "metadata": {},
          "output_type": "display_data"
        }
      ],
      "source": [
        "input_size = 28  # Longitud de la secuencia de entrada\n",
        "output_size = 5  # Número de pasos a predecir\n",
        "num_features = 14  # Número de características\n",
        "d_model = 64  # Dimensión del espacio de características\n",
        "nhead = 4  # Número de cabezas en el mecanismo de atención\n",
        "num_layers = 5  # Número de capas del transformer\n",
        "\n",
        "device = torch.device(\"cuda\" if torch.cuda.is_available() else \"cpu\")\n",
        "model = TransformerForecast(input_size, output_size, num_features, d_model, nhead, num_layers).to(device)\n",
        "criterion = CustomLoss().to(device)\n",
        "optimizer = optim.Adam(model.parameters(), lr=0.0001, weight_decay=1e-5)\n",
        "epochs = 600\n",
        "# Parámetros de Early Stopping\n",
        "patience = 20  # Número de épocas sin mejora antes de detener el entrenamiento\n",
        "min_delta = 0.05  # Diferencia mínima para considerar una mejora\n",
        "best_val_loss = float(\"inf\")\n",
        "counter = 0  # Contador de épocas sin mejora\n",
        "\n",
        "# Listas para almacenar pérdidas\n",
        "train_losses = []\n",
        "val_losses = []\n",
        "\n",
        "for epoch in range(epochs):\n",
        "    model.train()\n",
        "    total_train_loss = 0\n",
        "    \n",
        "    for X_batch, y_batch in train_loader:\n",
        "        X_batch, y_batch = X_batch.to(device), y_batch.to(device)\n",
        "        \n",
        "        optimizer.zero_grad()\n",
        "        y_pred = model(X_batch)\n",
        "        loss = criterion(y_pred, y_batch)\n",
        "        loss.backward()\n",
        "        optimizer.step()\n",
        "        \n",
        "        total_train_loss += loss.item()\n",
        "    \n",
        "    train_loss = total_train_loss / len(train_loader)\n",
        "    train_losses.append(train_loss)\n",
        "\n",
        "    # Evaluación en el conjunto de validación\n",
        "    model.eval()\n",
        "    total_val_loss = 0\n",
        "    \n",
        "    with torch.no_grad():\n",
        "        for X_val, y_val in val_loader:\n",
        "            X_val, y_val = X_val.to(device), y_val.to(device)\n",
        "            y_val_pred = model(X_val)\n",
        "            val_loss = criterion(y_val_pred, y_val)\n",
        "            total_val_loss += val_loss.item()\n",
        "    \n",
        "    val_loss = total_val_loss / len(val_loader)\n",
        "    val_losses.append(val_loss)\n",
        "\n",
        "    print(f\"Epoch {epoch+1}/{epochs}, Train Loss: {train_loss:.6f}, Val Loss: {val_loss:.6f}\")\n",
        "\n",
        "    # 📌 Early Stopping Logic\n",
        "    if val_loss < best_val_loss - min_delta:\n",
        "        best_val_loss = val_loss\n",
        "        counter = 0  # Reinicia el contador si la validación mejora\n",
        "        torch.save(model.state_dict(), \"best_model.pth\")  # Guarda el mejor modelo\n",
        "    else:\n",
        "        counter += 1  # Incrementa el contador si no hay mejora\n",
        "    \n",
        "    if counter >= patience:\n",
        "        print(f\"Early stopping triggered at epoch {epoch+1}\")\n",
        "        break  # Detiene el entrenamiento\n",
        "\n",
        "# 📊 Graficar pérdidas\n",
        "plt.figure(figsize=(16, 10))\n",
        "plt.plot(train_losses, label=\"Train Loss\")\n",
        "plt.plot(val_losses, label=\"Validation Loss\", linestyle = '--', color='red')\n",
        "plt.xlabel(\"Epochs\")\n",
        "plt.ylabel(\"Loss\")\n",
        "plt.legend()\n",
        "plt.title(\"Training and Validation Loss\")\n",
        "plt.grid()\n",
        "plt.show()"
      ]
    },
    {
      "cell_type": "code",
      "execution_count": 14,
      "metadata": {
        "id": "-QZG9q566ylB"
      },
      "outputs": [],
      "source": [
        "model.eval()\n",
        "predictions = []\n",
        "actuals = []\n",
        "\n",
        "# Score en test\n",
        "with torch.no_grad():\n",
        "    for X_batch, y_batch in test_loader:\n",
        "        X_batch, y_batch = X_batch.to(device), y_batch.to(device)\n",
        "        y_pred = model(X_batch)\n",
        "\n",
        "        predictions.append(y_pred.cpu().numpy())\n",
        "        actuals.append(y_batch.cpu().numpy())\n",
        "\n",
        "# Convertir listas en arrays\n",
        "predictions_test = np.concatenate(predictions).reshape(-1, 5)\n",
        "actuals_test = np.concatenate(actuals).reshape(-1, 5)\n",
        "\n",
        "# Score en train\n",
        "with torch.no_grad():\n",
        "    for X_batch, y_batch in train_loader:\n",
        "        X_batch, y_batch = X_batch.to(device), y_batch.to(device)\n",
        "        y_pred = model(X_batch)\n",
        "\n",
        "        predictions.append(y_pred.cpu().numpy())\n",
        "        actuals.append(y_batch.cpu().numpy())\n",
        "\n",
        "# Convertir listas en arrays\n",
        "predictions_train = np.concatenate(predictions).reshape(-1, 5)\n",
        "actuals_train = np.concatenate(actuals).reshape(-1, 5)\n",
        "\n",
        "# Convertir listas en arrays\n",
        "predictions_train = np.concatenate(predictions).reshape(-1, 5)\n",
        "actuals_train = np.concatenate(actuals).reshape(-1, 5)\n",
        "\n",
        "with torch.no_grad():\n",
        "    for X_batch, y_batch in val_loader:\n",
        "        X_batch, y_batch = X_batch.to(device), y_batch.to(device)\n",
        "        y_pred = model(X_batch)\n",
        "\n",
        "        predictions.append(y_pred.cpu().numpy())\n",
        "        actuals.append(y_batch.cpu().numpy())\n",
        "\n",
        "# Convertir listas en arrays\n",
        "predictions_val = np.concatenate(predictions).reshape(-1, 5)\n",
        "actuals_val = np.concatenate(actuals).reshape(-1, 5)"
      ]
    },
    {
      "cell_type": "code",
      "execution_count": 15,
      "metadata": {
        "id": "VtM2sOEp6yiZ"
      },
      "outputs": [
        {
          "name": "stdout",
          "output_type": "stream",
          "text": [
            "Evaluación del modelo:\n",
            "MAE Train: 0.47322834 MAE Val: 0.4736848 MAE Test: 0.47652397\n",
            "MSE Train: 0.40956435 MSE Val: 0.41038612 MSE Test: 0.41609582\n",
            "RMSE Train: 0.63997215 RMSE Val: 0.64061385 RMSE Test: 0.6450549\n"
          ]
        }
      ],
      "source": [
        "print(\"Evaluación del modelo:\")\n",
        "print(\"MAE Train:\", np.mean(np.abs(predictions_train - actuals_train)),\n",
        "      \"MAE Val:\", np.mean(np.abs(predictions_val - actuals_val)),\n",
        "      \"MAE Test:\", np.mean(np.abs(predictions_test - actuals_test)))\n",
        "print(\"MSE Train:\", np.mean((predictions_train - actuals_train) ** 2),\n",
        "      \"MSE Val:\", np.mean((predictions_val - actuals_val) ** 2),\n",
        "      \"MSE Test:\", np.mean((predictions_test - actuals_test) ** 2))\n",
        "print(\"RMSE Train:\", np.sqrt(np.mean((predictions_train - actuals_train) ** 2)),\n",
        "      \"RMSE Val:\", np.sqrt(np.mean((predictions_val - actuals_val) ** 2)),\n",
        "      \"RMSE Test:\", np.sqrt(np.mean((predictions_test - actuals_test) ** 2)))"
      ]
    },
    {
      "cell_type": "markdown",
      "metadata": {},
      "source": [
        "**V1 eval (135 epochs)**\n",
        "\n",
        "NHEAD:4, NUM_LAYERS:3\n",
        "\n",
        "Evaluación del modelo:\n",
        "\n",
        "MAE Train: 0.5842637 MAE Test: 0.5855433\n",
        "\n",
        "MSE Train: 0.54275197 MSE Test: 0.5465877\n",
        "\n",
        "RMSE Train: 0.73671705 RMSE Test: 0.7393157\n",
        "\n",
        "**V1 eval (50 epochs)**\n",
        "\n",
        "Evaluación del modelo:\n",
        "\n",
        "MAE Train: 0.16892084 MAE Test: 0.20223841\n",
        "\n",
        "MSE Train: 0.05833414 MSE Test: 0.09049564\n",
        "\n",
        "RMSE Train: 0.2415246 RMSE Test: 0.30082494\n",
        "\n",
        "**V1 eval (150 epochs)**\n",
        "\n",
        "MAE Train: 0.16892084 MAE Test: 0.20223841\n",
        "\n",
        "MSE Train: 0.05833414 MSE Test: 0.09049564\n",
        "\n",
        "RMSE Train: 0.2415246 RMSE Test: 0.30082494"
      ]
    },
    {
      "cell_type": "code",
      "execution_count": 16,
      "metadata": {
        "id": "RSCsJRXw6ygD"
      },
      "outputs": [],
      "source": [
        "torch.save(model.state_dict(), \"../weights/transformer_index_v1_weights_1.pth\")\n",
        "torch.save(model, \"../models/transformer_index_v1_model_1.pth\")"
      ]
    },
    {
      "cell_type": "code",
      "execution_count": null,
      "metadata": {
        "id": "AwxJkDgo6ydY"
      },
      "outputs": [],
      "source": []
    }
  ],
  "metadata": {
    "accelerator": "GPU",
    "colab": {
      "gpuType": "T4",
      "provenance": []
    },
    "kernelspec": {
      "display_name": "base",
      "language": "python",
      "name": "python3"
    },
    "language_info": {
      "codemirror_mode": {
        "name": "ipython",
        "version": 3
      },
      "file_extension": ".py",
      "mimetype": "text/x-python",
      "name": "python",
      "nbconvert_exporter": "python",
      "pygments_lexer": "ipython3",
      "version": "3.11.7"
    }
  },
  "nbformat": 4,
  "nbformat_minor": 0
}

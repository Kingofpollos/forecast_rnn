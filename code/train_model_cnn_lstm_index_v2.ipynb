{
  "cells": [
    {
      "cell_type": "code",
      "execution_count": 6,
      "metadata": {
        "id": "oINUI50l5-Hc"
      },
      "outputs": [],
      "source": [
        "from re import S\n",
        "import torch\n",
        "import torch.nn as nn\n",
        "import torch.optim as optim\n",
        "import numpy as np\n",
        "import pandas as pd\n",
        "from torch.utils.data import DataLoader, TensorDataset\n",
        "from sklearn.model_selection import train_test_split"
      ]
    },
    {
      "cell_type": "code",
      "execution_count": 7,
      "metadata": {
        "colab": {
          "base_uri": "https://localhost:8080/"
        },
        "id": "uBArSB5t6Jyc",
        "outputId": "d772d076-7898-4adb-b439-dd1359e88f60"
      },
      "outputs": [
        {
          "name": "stdout",
          "output_type": "stream",
          "text": [
            "cuda\n"
          ]
        }
      ],
      "source": [
        "device = torch.device(\"cuda\" if torch.cuda.is_available() else \"cpu\")\n",
        "print(device)"
      ]
    },
    {
      "cell_type": "markdown",
      "metadata": {
        "id": "mN4FGVELlAtX"
      },
      "source": [
        "# Carga de datos"
      ]
    },
    {
      "cell_type": "code",
      "execution_count": 8,
      "metadata": {
        "id": "_ERrSl2x6J05"
      },
      "outputs": [],
      "source": [
        "df = pd.read_csv('close_normalized_prices_index.csv')\n",
        "# df['X'] = df['X'].apply(lambda x: np.fromstring(x.strip(\"[]\"), sep=' '))\n",
        "df['Y'] = df['Y'].apply(lambda x: np.fromstring(x.strip(\"[]\"), sep=' '))"
      ]
    },
    {
      "cell_type": "code",
      "execution_count": 9,
      "metadata": {},
      "outputs": [],
      "source": [
        "df['X'] = df['X'].apply(lambda x:np.fromstring(x.replace('[', '').replace(']', '').replace('\\n', ' '), sep=' ').reshape(14, 28))"
      ]
    },
    {
      "cell_type": "markdown",
      "metadata": {
        "id": "mxg19-r2nnvR"
      },
      "source": [
        "# Division train-test"
      ]
    },
    {
      "cell_type": "code",
      "execution_count": 10,
      "metadata": {
        "id": "l3weKfJ6nmjZ"
      },
      "outputs": [],
      "source": [
        "X_train, X_test, y_train, y_test = train_test_split(np.stack(df.X.to_numpy()).astype(np.float32),\n",
        "                                                    np.stack(df.Y.to_numpy()).astype(np.float32),\n",
        "                                                    test_size=0.25,\n",
        "                                                    random_state=42)"
      ]
    },
    {
      "cell_type": "markdown",
      "metadata": {
        "id": "zAWsJsr3oX-5"
      },
      "source": [
        "# Conversión a tensores"
      ]
    },
    {
      "cell_type": "code",
      "execution_count": 11,
      "metadata": {
        "id": "iLMOxpIQ6xH1"
      },
      "outputs": [],
      "source": [
        "X_train = torch.tensor(X_train, dtype=torch.float32).reshape(-1, 14, 28)\n",
        "y_train = torch.tensor(y_train, dtype=torch.float32)\n",
        "\n",
        "X_test = torch.tensor(X_test, dtype=torch.float32).reshape(-1, 14, 28)\n",
        "y_test = torch.tensor(y_test, dtype=torch.float32)"
      ]
    },
    {
      "cell_type": "markdown",
      "metadata": {
        "id": "6Oy5imLlozhH"
      },
      "source": [
        "# Dataloaders"
      ]
    },
    {
      "cell_type": "code",
      "execution_count": 12,
      "metadata": {
        "id": "GBfBnQHP6ypj"
      },
      "outputs": [],
      "source": [
        "# Crear DataLoaders\n",
        "batch_size = 100\n",
        "train_dataset = TensorDataset(X_train, y_train)\n",
        "test_dataset = TensorDataset(X_test, y_test)"
      ]
    },
    {
      "cell_type": "code",
      "execution_count": 13,
      "metadata": {
        "id": "4hqF7Hl16ynN"
      },
      "outputs": [],
      "source": [
        "train_loader = DataLoader(train_dataset, batch_size=batch_size, shuffle=True)\n",
        "test_loader = DataLoader(test_dataset, batch_size=batch_size, shuffle=False)"
      ]
    },
    {
      "cell_type": "markdown",
      "metadata": {
        "id": "3oaiEsIhpZbt"
      },
      "source": [
        "# Modelo"
      ]
    },
    {
      "cell_type": "code",
      "execution_count": 14,
      "metadata": {
        "id": "0h8KEcJs63M6"
      },
      "outputs": [],
      "source": [
        "class CNN_LSTM(nn.Module):\n",
        "\n",
        "  def __init__(self):\n",
        "    super(CNN_LSTM, self).__init__()\n",
        "    # Capa Conv1D para extracción de características espaciales\n",
        "    self.conv1 = nn.Conv1d(in_channels=14, out_channels=64, kernel_size=5, padding=1)\n",
        "    self.conv2 = nn.Conv1d(in_channels=64, out_channels=128, kernel_size=5, padding=1)\n",
        "    self.conv3 = nn.Conv1d(in_channels=128, out_channels=256, kernel_size=5, padding=1)\n",
        "    self.conv4 = nn.Conv1d(in_channels=256, out_channels=512, kernel_size=2, padding=1)\n",
        "\n",
        "    # Batch normalization\n",
        "    self.bn1 = nn.BatchNorm1d(64)\n",
        "    self.bn2 = nn.BatchNorm1d(128)\n",
        "    self.bn3 = nn.BatchNorm1d(256)\n",
        "    self.bn4 = nn.BatchNorm1d(512)\n",
        "\n",
        "    # Max Pool\n",
        "    self.pool = nn.MaxPool1d(kernel_size=2)\n",
        "\n",
        "    # Dropout\n",
        "    self.dropout_layer = nn.Dropout(p=0.15)\n",
        "\n",
        "    # ReLu\n",
        "    self.relu = nn.ReLU()\n",
        "\n",
        "    # Capa LSTM\n",
        "    self.lstm = nn.LSTM(input_size=512, hidden_size=128, num_layers=5, batch_first=True)\n",
        "\n",
        "    # Capa Fully Connected\n",
        "    self.fc1 = nn.Linear(128, 64)  # Predecir 5 valores\n",
        "    self.fc2 = nn.Linear(64, 32)  # Predecir un solo valor\n",
        "    self.fc3 = nn.Linear(32, 16)  # Predecir un solo valor\n",
        "    self.fc4 = nn.Linear(16, 5)  # Predecir un solo valor\n",
        "\n",
        "    # Inicialización de pesos\n",
        "    self._initialize_weights()\n",
        "\n",
        "  def _initialize_weights(self):\n",
        "    for m in self.modules():\n",
        "      if isinstance(m, nn.Conv1d) or isinstance(m, nn.Linear):\n",
        "        nn.init.xavier_uniform_(m.weight)\n",
        "        if m.bias is not None:\n",
        "          nn.init.zeros_(m.bias)\n",
        "\n",
        "  def forward(self, x):\n",
        "    # Primer capa completa\n",
        "    x = self.conv1(x)\n",
        "    x = self.bn1(x)\n",
        "    x = self.relu(x)\n",
        "    x = self.pool(x)\n",
        "\n",
        "    # Segunda capa completa\n",
        "    x = self.conv2(x)\n",
        "    x = self.bn2(x)\n",
        "    x = self.relu(x)\n",
        "    x = self.pool(x)\n",
        "\n",
        "    # Tercera capa completa\n",
        "    x = self.conv3(x)\n",
        "    x = self.bn3(x)\n",
        "    x = self.relu(x)\n",
        "    x = self.pool(x)\n",
        "\n",
        "    # Cuarta capa completa\n",
        "    x = self.conv4(x)\n",
        "    x = self.bn4(x)\n",
        "    x = self.relu(x)\n",
        "    x = self.pool(x)\n",
        "\n",
        "    # Reordenar datos\n",
        "    # Antes batch, channels, seq_length\n",
        "    x = x.permute(0, 2, 1)\n",
        "    # Después batch, seq_length, features\n",
        "\n",
        "    # Capas LSTM\n",
        "    x, _ = self.lstm(x)\n",
        "\n",
        "    # Se toma la ultima salida de secuencia, que es la representación de la serie\n",
        "    x = x[:, -1, :]\n",
        "\n",
        "    # Capas Fully Connected\n",
        "    x = self.dropout_layer(x)\n",
        "    x = self.fc1(x)\n",
        "    x = self.relu(x)\n",
        "    x = self.dropout_layer(x)\n",
        "    x = self.fc2(x)\n",
        "    x = self.relu(x)\n",
        "    x = self.dropout_layer(x)\n",
        "    x = self.fc3(x)\n",
        "    x = self.relu(x)\n",
        "    x = self.dropout_layer(x)\n",
        "    x = self.fc4(x)\n",
        "\n",
        "    return x"
      ]
    },
    {
      "cell_type": "markdown",
      "metadata": {
        "id": "BfaemLPmGofJ"
      },
      "source": [
        "# Función de perdida propia"
      ]
    },
    {
      "cell_type": "code",
      "execution_count": 15,
      "metadata": {
        "id": "V6YYUXqmGoHI"
      },
      "outputs": [],
      "source": [
        "class CustomLoss(nn.Module):\n",
        "    def __init__(self):\n",
        "        super(CustomLoss, self).__init__()\n",
        "\n",
        "    def forward(self, y_pred, y_true):\n",
        "        mse = torch.mean(((y_pred - y_true)*100) ** 2)\n",
        "        return mse"
      ]
    },
    {
      "cell_type": "markdown",
      "metadata": {
        "id": "3CK6LHxmvzme"
      },
      "source": [
        "# Train model"
      ]
    },
    {
      "cell_type": "code",
      "execution_count": 17,
      "metadata": {
        "colab": {
          "base_uri": "https://localhost:8080/",
          "height": 373
        },
        "id": "zS3LZBRjGhAE",
        "outputId": "e7fc5a0c-6d6d-4dcd-fd51-9051547eac19"
      },
      "outputs": [
        {
          "name": "stdout",
          "output_type": "stream",
          "text": [
            "Epoch 1/200, Loss: 1106.769240, 33.268142\n",
            "Epoch 2/200, Loss: 1052.142455, 32.436745\n",
            "Epoch 3/200, Loss: 1034.678006, 32.166411\n",
            "Epoch 4/200, Loss: 1018.863158, 31.919636\n",
            "Epoch 5/200, Loss: 1006.570725, 31.726499\n",
            "Epoch 6/200, Loss: 992.913521, 31.510530\n",
            "Epoch 7/200, Loss: 977.958062, 31.272321\n",
            "Epoch 8/200, Loss: 962.761357, 31.028396\n",
            "Epoch 9/200, Loss: 950.396693, 30.828505\n",
            "Epoch 10/200, Loss: 937.124598, 30.612491\n",
            "Epoch 11/200, Loss: 925.127776, 30.415913\n",
            "Epoch 12/200, Loss: 913.990140, 30.232270\n",
            "Epoch 13/200, Loss: 902.747799, 30.045762\n",
            "Epoch 14/200, Loss: 893.234787, 29.887034\n",
            "Epoch 15/200, Loss: 880.634896, 29.675493\n",
            "Epoch 16/200, Loss: 868.470426, 29.469822\n",
            "Epoch 17/200, Loss: 861.796775, 29.356375\n",
            "Epoch 18/200, Loss: 849.171631, 29.140550\n",
            "Epoch 19/200, Loss: 840.290465, 28.987764\n",
            "Epoch 20/200, Loss: 830.749961, 28.822733\n",
            "Epoch 21/200, Loss: 826.129381, 28.742467\n",
            "Epoch 22/200, Loss: 814.356605, 28.536934\n",
            "Epoch 23/200, Loss: 806.165905, 28.393061\n",
            "Epoch 24/200, Loss: 796.930588, 28.229959\n",
            "Epoch 25/200, Loss: 786.682117, 28.047854\n",
            "Epoch 26/200, Loss: 780.646449, 27.940051\n",
            "Epoch 27/200, Loss: 773.482462, 27.811553\n",
            "Epoch 28/200, Loss: 764.181990, 27.643842\n",
            "Epoch 29/200, Loss: 759.845314, 27.565292\n",
            "Epoch 30/200, Loss: 755.317480, 27.483040\n",
            "Epoch 31/200, Loss: 747.918747, 27.348103\n",
            "Epoch 32/200, Loss: 740.816518, 27.217945\n",
            "Epoch 33/200, Loss: 733.807783, 27.088887\n",
            "Epoch 34/200, Loss: 731.503335, 27.046318\n",
            "Epoch 35/200, Loss: 723.569839, 26.899254\n",
            "Epoch 36/200, Loss: 716.566308, 26.768756\n",
            "Epoch 37/200, Loss: 709.553770, 26.637451\n",
            "Epoch 38/200, Loss: 703.821799, 26.529640\n",
            "Epoch 39/200, Loss: 696.652447, 26.394174\n",
            "Epoch 40/200, Loss: 696.289576, 26.387300\n",
            "Epoch 41/200, Loss: 681.689847, 26.109191\n",
            "Epoch 42/200, Loss: 682.397602, 26.122741\n",
            "Epoch 43/200, Loss: 672.480633, 25.932232\n",
            "Epoch 44/200, Loss: 669.758613, 25.879695\n",
            "Epoch 45/200, Loss: 671.009308, 25.903847\n",
            "Epoch 46/200, Loss: 660.927816, 25.708516\n",
            "Epoch 47/200, Loss: 657.950654, 25.650549\n",
            "Epoch 48/200, Loss: 653.349794, 25.560708\n",
            "Epoch 49/200, Loss: 647.937944, 25.454625\n",
            "Epoch 50/200, Loss: 645.279827, 25.402359\n",
            "Epoch 51/200, Loss: 639.058812, 25.279613\n",
            "Epoch 52/200, Loss: 635.014732, 25.199499\n",
            "Epoch 53/200, Loss: 632.021460, 25.140037\n",
            "Epoch 54/200, Loss: 630.342636, 25.106625\n",
            "Epoch 55/200, Loss: 625.684277, 25.013682\n",
            "Epoch 56/200, Loss: 620.507956, 24.909997\n",
            "Epoch 57/200, Loss: 620.965556, 24.919180\n",
            "Epoch 58/200, Loss: 616.288080, 24.825150\n",
            "Epoch 59/200, Loss: 610.913678, 24.716668\n",
            "Epoch 60/200, Loss: 608.719630, 24.672244\n",
            "Epoch 61/200, Loss: 609.474007, 24.687527\n",
            "Epoch 62/200, Loss: 607.448387, 24.646468\n",
            "Epoch 63/200, Loss: 603.869886, 24.573764\n",
            "Epoch 64/200, Loss: 605.235954, 24.601544\n",
            "Epoch 65/200, Loss: 596.270664, 24.418654\n",
            "Epoch 66/200, Loss: 597.545025, 24.444734\n",
            "Epoch 67/200, Loss: 590.802477, 24.306429\n",
            "Epoch 68/200, Loss: 590.614533, 24.302562\n",
            "Epoch 69/200, Loss: 591.553015, 24.321863\n",
            "Epoch 70/200, Loss: 587.881338, 24.246264\n",
            "Epoch 71/200, Loss: 585.808756, 24.203486\n",
            "Epoch 72/200, Loss: 583.031747, 24.146050\n",
            "Epoch 73/200, Loss: 583.270893, 24.151002\n",
            "Epoch 74/200, Loss: 578.779637, 24.057839\n",
            "Epoch 75/200, Loss: 578.615821, 24.054435\n",
            "Epoch 76/200, Loss: 573.713620, 23.952320\n",
            "Epoch 77/200, Loss: 572.243851, 23.921619\n",
            "Epoch 78/200, Loss: 572.044409, 23.917450\n",
            "Epoch 79/200, Loss: 568.393282, 23.841000\n",
            "Epoch 80/200, Loss: 574.928579, 23.977668\n",
            "Epoch 81/200, Loss: 568.546775, 23.844219\n",
            "Epoch 82/200, Loss: 564.872727, 23.767051\n",
            "Epoch 83/200, Loss: 565.903838, 23.788733\n",
            "Epoch 84/200, Loss: 571.448530, 23.904990\n",
            "Epoch 85/200, Loss: 577.256360, 24.026160\n",
            "Epoch 86/200, Loss: 567.040106, 23.812604\n",
            "Epoch 87/200, Loss: 569.765984, 23.869771\n",
            "Epoch 88/200, Loss: 561.259053, 23.690907\n",
            "Epoch 89/200, Loss: 563.870567, 23.745959\n",
            "Epoch 90/200, Loss: 556.964318, 23.600091\n",
            "Epoch 91/200, Loss: 557.859812, 23.619056\n",
            "Epoch 92/200, Loss: 554.889146, 23.556085\n",
            "Epoch 93/200, Loss: 549.342308, 23.438053\n",
            "Epoch 94/200, Loss: 552.337472, 23.501861\n",
            "Epoch 95/200, Loss: 551.205701, 23.477770\n",
            "Epoch 96/200, Loss: 550.565635, 23.464135\n",
            "Epoch 97/200, Loss: 547.936469, 23.408043\n",
            "Epoch 98/200, Loss: 548.872660, 23.428031\n",
            "Epoch 99/200, Loss: 547.584942, 23.400533\n",
            "Epoch 100/200, Loss: 548.209554, 23.413875\n",
            "Epoch 101/200, Loss: 549.494715, 23.441304\n",
            "Epoch 102/200, Loss: 542.865851, 23.299482\n",
            "Epoch 103/200, Loss: 544.285740, 23.329932\n",
            "Epoch 104/200, Loss: 546.950877, 23.386981\n",
            "Epoch 105/200, Loss: 542.849776, 23.299137\n",
            "Epoch 106/200, Loss: 538.734932, 23.210664\n",
            "Epoch 107/200, Loss: 538.604972, 23.207864\n",
            "Epoch 108/200, Loss: 539.621012, 23.229744\n",
            "Epoch 109/200, Loss: 536.068615, 23.153156\n",
            "Epoch 110/200, Loss: 538.111512, 23.197231\n",
            "Epoch 111/200, Loss: 534.490683, 23.119055\n",
            "Epoch 112/200, Loss: 538.185428, 23.198824\n",
            "Epoch 113/200, Loss: 536.103600, 23.153911\n",
            "Epoch 114/200, Loss: 531.813399, 23.061080\n",
            "Epoch 115/200, Loss: 531.541878, 23.055192\n",
            "Epoch 116/200, Loss: 532.834868, 23.083216\n",
            "Epoch 117/200, Loss: 529.067891, 23.001476\n",
            "Epoch 118/200, Loss: 528.646860, 22.992322\n",
            "Epoch 119/200, Loss: 529.670131, 23.014563\n",
            "Epoch 120/200, Loss: 531.309443, 23.050151\n",
            "Epoch 121/200, Loss: 527.141285, 22.959558\n",
            "Epoch 122/200, Loss: 530.622811, 23.035251\n",
            "Epoch 123/200, Loss: 524.217111, 22.895788\n",
            "Epoch 124/200, Loss: 522.240338, 22.852578\n",
            "Epoch 125/200, Loss: 530.964950, 23.042677\n",
            "Epoch 126/200, Loss: 524.705179, 22.906444\n",
            "Epoch 127/200, Loss: 520.153313, 22.806870\n",
            "Epoch 128/200, Loss: 522.436135, 22.856862\n",
            "Epoch 129/200, Loss: 520.895204, 22.823129\n",
            "Epoch 130/200, Loss: 522.583038, 22.860075\n",
            "Epoch 131/200, Loss: 518.216752, 22.764375\n",
            "Epoch 132/200, Loss: 519.432279, 22.791057\n",
            "Epoch 133/200, Loss: 520.179745, 22.807449\n",
            "Epoch 134/200, Loss: 515.768658, 22.710541\n",
            "Epoch 135/200, Loss: 518.313638, 22.766503\n",
            "Epoch 136/200, Loss: 515.510184, 22.704849\n",
            "Epoch 137/200, Loss: 515.383378, 22.702057\n",
            "Epoch 138/200, Loss: 518.462846, 22.769779\n",
            "Epoch 139/200, Loss: 517.908015, 22.757592\n",
            "Epoch 140/200, Loss: 519.641476, 22.795646\n",
            "Epoch 141/200, Loss: 516.308205, 22.722416\n",
            "Epoch 142/200, Loss: 515.540893, 22.705526\n",
            "Epoch 143/200, Loss: 514.100332, 22.673781\n",
            "Epoch 144/200, Loss: 518.651499, 22.773921\n",
            "Epoch 145/200, Loss: 513.003379, 22.649578\n",
            "Epoch 146/200, Loss: 512.247269, 22.632880\n",
            "Epoch 147/200, Loss: 511.441459, 22.615072\n",
            "Epoch 148/200, Loss: 509.357450, 22.568949\n",
            "Epoch 149/200, Loss: 507.696668, 22.532125\n",
            "Epoch 150/200, Loss: 510.241456, 22.588525\n",
            "Epoch 151/200, Loss: 509.342941, 22.568627\n",
            "Epoch 152/200, Loss: 507.433398, 22.526282\n",
            "Epoch 153/200, Loss: 511.793418, 22.622852\n",
            "Epoch 154/200, Loss: 511.658007, 22.619859\n",
            "Epoch 155/200, Loss: 508.194431, 22.543168\n",
            "Epoch 156/200, Loss: 515.171186, 22.697383\n",
            "Epoch 157/200, Loss: 504.627848, 22.463923\n",
            "Epoch 158/200, Loss: 509.719484, 22.576968\n",
            "Epoch 159/200, Loss: 508.600876, 22.552181\n",
            "Epoch 160/200, Loss: 511.310343, 22.612172\n",
            "Epoch 161/200, Loss: 508.181203, 22.542875\n",
            "Epoch 162/200, Loss: 506.215567, 22.499235\n",
            "Epoch 163/200, Loss: 504.463584, 22.460267\n",
            "Epoch 164/200, Loss: 506.620751, 22.508237\n",
            "Epoch 165/200, Loss: 507.338418, 22.524174\n",
            "Epoch 166/200, Loss: 507.856847, 22.535679\n",
            "Epoch 167/200, Loss: 508.366131, 22.546976\n",
            "Epoch 168/200, Loss: 505.116443, 22.474796\n",
            "Epoch 169/200, Loss: 504.433598, 22.459599\n",
            "Epoch 170/200, Loss: 508.857409, 22.557868\n",
            "Epoch 171/200, Loss: 501.920343, 22.403579\n",
            "Epoch 172/200, Loss: 503.818757, 22.445907\n",
            "Epoch 173/200, Loss: 503.065131, 22.429113\n",
            "Epoch 174/200, Loss: 503.558343, 22.440106\n",
            "Epoch 175/200, Loss: 507.119971, 22.519324\n",
            "Epoch 176/200, Loss: 502.506932, 22.416666\n",
            "Epoch 177/200, Loss: 505.267969, 22.478166\n",
            "Epoch 178/200, Loss: 499.246082, 22.343815\n",
            "Epoch 179/200, Loss: 505.245637, 22.477670\n",
            "Epoch 180/200, Loss: 498.910659, 22.336308\n",
            "Epoch 181/200, Loss: 502.142453, 22.408535\n",
            "Epoch 182/200, Loss: 497.829804, 22.312100\n",
            "Epoch 183/200, Loss: 500.453861, 22.370826\n",
            "Epoch 184/200, Loss: 502.915006, 22.425767\n",
            "Epoch 185/200, Loss: 501.626050, 22.397010\n",
            "Epoch 186/200, Loss: 502.694080, 22.420840\n",
            "Epoch 187/200, Loss: 500.858861, 22.379876\n",
            "Epoch 188/200, Loss: 508.700665, 22.554393\n",
            "Epoch 189/200, Loss: 498.819245, 22.334262\n",
            "Epoch 190/200, Loss: 503.462492, 22.437970\n",
            "Epoch 191/200, Loss: 503.173392, 22.431527\n",
            "Epoch 192/200, Loss: 500.955326, 22.382031\n",
            "Epoch 193/200, Loss: 503.378041, 22.436088\n",
            "Epoch 194/200, Loss: 500.857433, 22.379844\n",
            "Epoch 195/200, Loss: 499.296773, 22.344950\n",
            "Epoch 196/200, Loss: 497.286744, 22.299927\n",
            "Epoch 197/200, Loss: 502.732029, 22.421687\n",
            "Epoch 198/200, Loss: 502.153859, 22.408790\n",
            "Epoch 199/200, Loss: 503.568514, 22.440332\n",
            "Epoch 200/200, Loss: 501.584777, 22.396088\n"
          ]
        },
        {
          "data": {
            "image/png": "[encoded data removed]",
            "text/plain": [
              "<Figure size 640x480 with 1 Axes>"
            ]
          },
          "metadata": {},
          "output_type": "display_data"
        }
      ],
      "source": [
        "import math\n",
        "device = torch.device(\"cuda\" if torch.cuda.is_available() else \"cpu\")\n",
        "model = CNN_LSTM().to(device)\n",
        "criterion = CustomLoss()\n",
        "optimizer = optim.Adam(model.parameters(), lr=0.0015, weight_decay=1e-5)\n",
        "epochs = 200\n",
        "losses = list()\n",
        "for epoch in range(epochs):\n",
        "    model.train()\n",
        "    total_loss = 0\n",
        "    for X_batch, y_batch in train_loader:\n",
        "        X_batch, y_batch = X_batch.to(device), y_batch.to(device)\n",
        "\n",
        "        optimizer.zero_grad()\n",
        "        y_pred = model(X_batch)\n",
        "        loss = criterion(y_pred, y_batch)\n",
        "        loss.backward()\n",
        "        optimizer.step()\n",
        "\n",
        "        total_loss += loss.item()\n",
        "        train_loss = total_loss / len(train_loader)\n",
        "    losses.append(train_loss)\n",
        "\n",
        "    print(f\"Epoch {epoch+1}/{epochs}, Loss: {train_loss:.6f}, {math.sqrt(train_loss):.6f}\")\n",
        "\n",
        "import matplotlib.pyplot as plt\n",
        "plt.plot(losses)\n",
        "plt.xlabel('Epochs')\n",
        "plt.ylabel('Loss')\n",
        "plt.title('Training Loss')\n",
        "plt.grid()\n",
        "plt.show()"
      ]
    },
    {
      "cell_type": "code",
      "execution_count": null,
      "metadata": {
        "id": "-QZG9q566ylB"
      },
      "outputs": [],
      "source": [
        "model.eval()\n",
        "predictions = []\n",
        "actuals = []\n",
        "\n",
        "# Score en test\n",
        "with torch.no_grad():\n",
        "    for X_batch, y_batch in test_loader:\n",
        "        X_batch, y_batch = X_batch.to(device), y_batch.to(device)\n",
        "        y_pred = model(X_batch)\n",
        "\n",
        "        predictions.append(y_pred.cpu().numpy())\n",
        "        actuals.append(y_batch.cpu().numpy())\n",
        "\n",
        "# Convertir listas en arrays\n",
        "predictions_test = np.concatenate(predictions).reshape(-1, 5)\n",
        "actuals_test = np.concatenate(actuals).reshape(-1, 5)\n",
        "\n",
        "# Score en train\n",
        "with torch.no_grad():\n",
        "    for X_batch, y_batch in train_loader:\n",
        "        X_batch, y_batch = X_batch.to(device), y_batch.to(device)\n",
        "        y_pred = model(X_batch)\n",
        "\n",
        "        predictions.append(y_pred.cpu().numpy())\n",
        "        actuals.append(y_batch.cpu().numpy())\n",
        "\n",
        "# Convertir listas en arrays\n",
        "predictions_train = np.concatenate(predictions).reshape(-1, 5)\n",
        "actuals_train = np.concatenate(actuals).reshape(-1, 5)"
      ]
    },
    {
      "cell_type": "code",
      "execution_count": null,
      "metadata": {
        "id": "VtM2sOEp6yiZ"
      },
      "outputs": [
        {
          "name": "stdout",
          "output_type": "stream",
          "text": [
            "Evaluación del modelo:\n",
            "MAE Train: 0.16892084 MAE Test: 0.20223841\n",
            "MSE Train: 0.05833414 MSE Test: 0.09049564\n",
            "RMSE Train: 0.2415246 RMSE Test: 0.30082494\n"
          ]
        }
      ],
      "source": [
        "print(\"Evaluación del modelo:\")\n",
        "print(\"MAE Train:\", np.mean(np.abs(predictions_train - actuals_train)),\n",
        "      \"MAE Test:\", np.mean(np.abs(predictions_test - actuals_test)))\n",
        "print(\"MSE Train:\", np.mean((predictions_train - actuals_train) ** 2),\n",
        "      \"MSE Test:\", np.mean((predictions_test - actuals_test) ** 2))\n",
        "print(\"RMSE Train:\", np.sqrt(np.mean((predictions_train - actuals_train) ** 2)),\n",
        "      \"RMSE Test:\", np.sqrt(np.mean((predictions_test - actuals_test) ** 2)))"
      ]
    },
    {
      "cell_type": "markdown",
      "metadata": {},
      "source": [
        "**V1 eval (20 epochs)**\n",
        "\n",
        "Evaluación del modelo:\n",
        "\n",
        "MAE Train: 0.18331179 MAE Test: 0.20078355\n",
        "\n",
        "MSE Train: 0.07033019 MSE Test: 0.08963985\n",
        "\n",
        "RMSE Train: 0.26519838 RMSE Test: 0.29939914\n",
        "\n",
        "**V1 eval (50 epochs)**\n",
        "\n",
        "Evaluación del modelo:\n",
        "\n",
        "MAE Train: 0.16892084 MAE Test: 0.20223841\n",
        "\n",
        "MSE Train: 0.05833414 MSE Test: 0.09049564\n",
        "\n",
        "RMSE Train: 0.2415246 RMSE Test: 0.30082494\n",
        "\n",
        "**V1 eval (150 epochs)**\n",
        "\n",
        "MAE Train: 0.16892084 MAE Test: 0.20223841\n",
        "\n",
        "MSE Train: 0.05833414 MSE Test: 0.09049564\n",
        "\n",
        "RMSE Train: 0.2415246 RMSE Test: 0.30082494"
      ]
    },
    {
      "cell_type": "code",
      "execution_count": null,
      "metadata": {
        "id": "RSCsJRXw6ygD"
      },
      "outputs": [],
      "source": [
        "torch.save(model.state_dict(), \"../weights/cnn_lstm_index_v2_weights_1.pth\")\n",
        "torch.save(model, \"../models/cnn_lstm_index_v2_model_1.pth\")"
      ]
    },
    {
      "cell_type": "code",
      "execution_count": null,
      "metadata": {
        "id": "AwxJkDgo6ydY"
      },
      "outputs": [],
      "source": []
    }
  ],
  "metadata": {
    "accelerator": "GPU",
    "colab": {
      "gpuType": "T4",
      "provenance": []
    },
    "kernelspec": {
      "display_name": "base",
      "language": "python",
      "name": "python3"
    },
    "language_info": {
      "codemirror_mode": {
        "name": "ipython",
        "version": 3
      },
      "file_extension": ".py",
      "mimetype": "text/x-python",
      "name": "python",
      "nbconvert_exporter": "python",
      "pygments_lexer": "ipython3",
      "version": "3.11.7"
    }
  },
  "nbformat": 4,
  "nbformat_minor": 0
}

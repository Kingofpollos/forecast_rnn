{
  "cells": [
    {
      "cell_type": "code",
      "execution_count": 1,
      "metadata": {
        "id": "oINUI50l5-Hc"
      },
      "outputs": [],
      "source": [
        "from re import S\n",
        "import torch\n",
        "import torch.nn as nn\n",
        "import torch.optim as optim\n",
        "import numpy as np\n",
        "import pandas as pd\n",
        "from torch.utils.data import DataLoader, TensorDataset\n",
        "from sklearn.model_selection import train_test_split\n",
        "import matplotlib.pyplot as plt\n",
        "import math"
      ]
    },
    {
      "cell_type": "code",
      "execution_count": 2,
      "metadata": {
        "colab": {
          "base_uri": "https://localhost:8080/"
        },
        "id": "uBArSB5t6Jyc",
        "outputId": "d772d076-7898-4adb-b439-dd1359e88f60"
      },
      "outputs": [
        {
          "name": "stdout",
          "output_type": "stream",
          "text": [
            "cuda\n"
          ]
        }
      ],
      "source": [
        "device = torch.device(\"cuda\" if torch.cuda.is_available() else \"cpu\")\n",
        "print(device)"
      ]
    },
    {
      "cell_type": "markdown",
      "metadata": {
        "id": "mN4FGVELlAtX"
      },
      "source": [
        "# Carga de datos"
      ]
    },
    {
      "cell_type": "code",
      "execution_count": 3,
      "metadata": {
        "id": "_ERrSl2x6J05"
      },
      "outputs": [],
      "source": [
        "df = pd.read_csv('close_normalized_prices_index.csv')\n",
        "# df['X'] = df['X'].apply(lambda x: np.fromstring(x.strip(\"[]\"), sep=' '))\n",
        "df['Y'] = df['Y'].apply(lambda x: np.fromstring(x.strip(\"[]\"), sep=' '))"
      ]
    },
    {
      "cell_type": "code",
      "execution_count": 4,
      "metadata": {},
      "outputs": [],
      "source": [
        "df['X'] = df['X'].apply(lambda x:np.fromstring(x.replace('[', '').replace(']', '').replace('\\n', ' '), sep=' ').reshape(14, 28))"
      ]
    },
    {
      "cell_type": "markdown",
      "metadata": {
        "id": "mxg19-r2nnvR"
      },
      "source": [
        "# Division train-test"
      ]
    },
    {
      "cell_type": "code",
      "execution_count": 5,
      "metadata": {
        "id": "l3weKfJ6nmjZ"
      },
      "outputs": [],
      "source": [
        "X_train, X_test, y_train, y_test = train_test_split(np.stack(df.X.to_numpy()).astype(np.float32),\n",
        "                                                    np.stack(df.Y.to_numpy()).astype(np.float32),\n",
        "                                                    test_size=0.25,\n",
        "                                                    random_state=42)"
      ]
    },
    {
      "cell_type": "markdown",
      "metadata": {
        "id": "zAWsJsr3oX-5"
      },
      "source": [
        "# Conversión a tensores"
      ]
    },
    {
      "cell_type": "code",
      "execution_count": 6,
      "metadata": {
        "id": "iLMOxpIQ6xH1"
      },
      "outputs": [],
      "source": [
        "X_train = torch.tensor(X_train, dtype=torch.float32).reshape(-1, 14, 28)\n",
        "y_train = torch.tensor(y_train, dtype=torch.float32)\n",
        "\n",
        "X_test = torch.tensor(X_test, dtype=torch.float32).reshape(-1, 14, 28)\n",
        "y_test = torch.tensor(y_test, dtype=torch.float32)"
      ]
    },
    {
      "cell_type": "markdown",
      "metadata": {
        "id": "6Oy5imLlozhH"
      },
      "source": [
        "# Dataloaders"
      ]
    },
    {
      "cell_type": "code",
      "execution_count": 7,
      "metadata": {
        "id": "GBfBnQHP6ypj"
      },
      "outputs": [],
      "source": [
        "# Crear DataLoaders\n",
        "batch_size = 100\n",
        "train_dataset = TensorDataset(X_train, y_train)\n",
        "test_dataset = TensorDataset(X_test, y_test)"
      ]
    },
    {
      "cell_type": "code",
      "execution_count": 8,
      "metadata": {
        "id": "4hqF7Hl16ynN"
      },
      "outputs": [],
      "source": [
        "train_loader = DataLoader(train_dataset, batch_size=batch_size, shuffle=True)\n",
        "test_loader = DataLoader(test_dataset, batch_size=batch_size, shuffle=False)"
      ]
    },
    {
      "cell_type": "markdown",
      "metadata": {
        "id": "3oaiEsIhpZbt"
      },
      "source": [
        "# Modelo"
      ]
    },
    {
      "cell_type": "code",
      "execution_count": 9,
      "metadata": {
        "id": "0h8KEcJs63M6"
      },
      "outputs": [],
      "source": [
        "class CNN_LSTM(nn.Module):\n",
        "\n",
        "  def __init__(self):\n",
        "    super(CNN_LSTM, self).__init__()\n",
        "    # Capa Conv1D para extracción de características espaciales\n",
        "    self.conv1 = nn.Conv1d(in_channels=14, out_channels=64, kernel_size=5, padding=1)\n",
        "    self.conv2 = nn.Conv1d(in_channels=64, out_channels=128, kernel_size=5, padding=1)\n",
        "    self.conv3 = nn.Conv1d(in_channels=128, out_channels=256, kernel_size=5, padding=1)\n",
        "\n",
        "    # Batch normalization\n",
        "    self.bn1 = nn.BatchNorm1d(64)\n",
        "    self.bn2 = nn.BatchNorm1d(128)\n",
        "    self.bn3 = nn.BatchNorm1d(256)\n",
        "\n",
        "    # Max Pool\n",
        "    self.pool = nn.MaxPool1d(kernel_size=2)\n",
        "\n",
        "    # Dropout\n",
        "    self.dropout_layer = nn.Dropout(p=0.15)\n",
        "\n",
        "    # ReLu\n",
        "    self.relu = nn.ReLU()\n",
        "\n",
        "    # Capa LSTM\n",
        "    self.lstm = nn.LSTM(input_size=256, hidden_size=64, num_layers=3, batch_first=True)\n",
        "\n",
        "    # Capa Fully Connected\n",
        "    self.fc0_1 = nn.Linear(64, 128)\n",
        "    self.fc0_2 = nn.Linear(128, 128)\n",
        "    self.fc0_3 = nn.Linear(128, 128)\n",
        "    self.fc0_4 = nn.Linear(128, 64)\n",
        "    self.fc1 = nn.Linear(64, 32) \n",
        "    self.fc2 = nn.Linear(32, 16)  \n",
        "    self.fc3 = nn.Linear(16, 5)  \n",
        "\n",
        "    # Inicialización de pesos\n",
        "    self._initialize_weights()\n",
        "\n",
        "  def _initialize_weights(self):\n",
        "    for m in self.modules():\n",
        "      if isinstance(m, nn.Conv1d) or isinstance(m, nn.Linear):\n",
        "        nn.init.xavier_uniform_(m.weight)\n",
        "        if m.bias is not None:\n",
        "          nn.init.zeros_(m.bias)\n",
        "\n",
        "  def forward(self, x, embeddings=False):\n",
        "    # Primer capa completa\n",
        "    x = self.conv1(x)\n",
        "    x = self.bn1(x)\n",
        "    x = self.relu(x)\n",
        "    x = self.pool(x)\n",
        "\n",
        "    # Segunda capa completa\n",
        "    x = self.conv2(x)\n",
        "    x = self.bn2(x)\n",
        "    x = self.relu(x)\n",
        "    x = self.pool(x)\n",
        "\n",
        "    # Tercera capa completa\n",
        "    x = self.conv3(x)\n",
        "    x = self.bn3(x)\n",
        "    x = self.relu(x)\n",
        "    x = self.pool(x)\n",
        "\n",
        "    # Reordenar datos\n",
        "    # Antes batch, channels, seq_length\n",
        "    x = x.permute(0, 2, 1)\n",
        "    # Después batch, seq_length, features\n",
        "\n",
        "    if embeddings:\n",
        "      return x\n",
        "\n",
        "    # Capas LSTM\n",
        "    x, _ = self.lstm(x)\n",
        "\n",
        "    # Se toma la ultima salida de secuencia, que es la representación de la serie\n",
        "    x = x[:, -1, :]\n",
        "\n",
        "    # Capas Fully Connected\n",
        "    x = self.dropout_layer(x)\n",
        "    x = self.fc0_1(x)\n",
        "    x = self.relu(x)\n",
        "\n",
        "    x = self.dropout_layer(x)\n",
        "    x = self.fc0_2(x)\n",
        "    x = self.relu(x)\n",
        "\n",
        "    x = self.dropout_layer(x)\n",
        "    x = self.fc0_3(x)\n",
        "    x = self.relu(x)\n",
        "\n",
        "    x = self.dropout_layer(x)\n",
        "    x = self.fc0_4(x)\n",
        "    x = self.relu(x)\n",
        "\n",
        "    x = self.dropout_layer(x)\n",
        "    x = self.fc1(x)\n",
        "    x = self.relu(x)\n",
        "\n",
        "    x = self.dropout_layer(x)\n",
        "    x = self.fc2(x)\n",
        "    x = self.relu(x)\n",
        "\n",
        "    x = self.dropout_layer(x)\n",
        "    x = self.fc3(x)\n",
        "\n",
        "    return x"
      ]
    },
    {
      "cell_type": "markdown",
      "metadata": {
        "id": "BfaemLPmGofJ"
      },
      "source": [
        "# Función de perdida propia"
      ]
    },
    {
      "cell_type": "code",
      "execution_count": 10,
      "metadata": {
        "id": "V6YYUXqmGoHI"
      },
      "outputs": [],
      "source": [
        "class CustomLoss(nn.Module):\n",
        "    def __init__(self):\n",
        "        super(CustomLoss, self).__init__()\n",
        "\n",
        "    def forward(self, y_pred, y_true):\n",
        "        mse = torch.mean(((y_pred - y_true)*100) ** 2)\n",
        "        return mse"
      ]
    },
    {
      "cell_type": "markdown",
      "metadata": {
        "id": "3CK6LHxmvzme"
      },
      "source": [
        "# Train model"
      ]
    },
    {
      "cell_type": "code",
      "execution_count": 22,
      "metadata": {
        "colab": {
          "base_uri": "https://localhost:8080/",
          "height": 373
        },
        "id": "zS3LZBRjGhAE",
        "outputId": "e7fc5a0c-6d6d-4dcd-fd51-9051547eac19"
      },
      "outputs": [
        {
          "name": "stdout",
          "output_type": "stream",
          "text": [
            "Epoch 1/300, Loss: 1169.754935, 34.201680\n",
            "Epoch 2/300, Loss: 1043.834594, 32.308429\n",
            "Epoch 3/300, Loss: 1018.684442, 31.916836\n",
            "Epoch 4/300, Loss: 997.609039, 31.584950\n",
            "Epoch 5/300, Loss: 979.183891, 31.291914\n",
            "Epoch 6/300, Loss: 960.752230, 30.996003\n",
            "Epoch 7/300, Loss: 942.378494, 30.698184\n",
            "Epoch 8/300, Loss: 923.702423, 30.392473\n",
            "Epoch 9/300, Loss: 904.676815, 30.077846\n",
            "Epoch 10/300, Loss: 888.629704, 29.809893\n",
            "Epoch 11/300, Loss: 871.027024, 29.513167\n",
            "Epoch 12/300, Loss: 857.169332, 29.277454\n",
            "Epoch 13/300, Loss: 845.211052, 29.072514\n",
            "Epoch 14/300, Loss: 827.088827, 28.759152\n",
            "Epoch 15/300, Loss: 814.584367, 28.540924\n",
            "Epoch 16/300, Loss: 802.024891, 28.320044\n",
            "Epoch 17/300, Loss: 791.867185, 28.140135\n",
            "Epoch 18/300, Loss: 777.437569, 27.882567\n",
            "Epoch 19/300, Loss: 768.532172, 27.722413\n",
            "Epoch 20/300, Loss: 756.487671, 27.504321\n",
            "Epoch 21/300, Loss: 745.136506, 27.297189\n",
            "Epoch 22/300, Loss: 738.386128, 27.173261\n",
            "Epoch 23/300, Loss: 729.196731, 27.003643\n",
            "Epoch 24/300, Loss: 719.448453, 26.822536\n",
            "Epoch 25/300, Loss: 711.824106, 26.680032\n",
            "Epoch 26/300, Loss: 706.987143, 26.589230\n",
            "Epoch 27/300, Loss: 696.715829, 26.395375\n",
            "Epoch 28/300, Loss: 690.738014, 26.281895\n",
            "Epoch 29/300, Loss: 682.106240, 26.117164\n",
            "Epoch 30/300, Loss: 677.297960, 26.024949\n",
            "Epoch 31/300, Loss: 672.163336, 25.926113\n",
            "Epoch 32/300, Loss: 668.796476, 25.861100\n",
            "Epoch 33/300, Loss: 662.198709, 25.733222\n",
            "Epoch 34/300, Loss: 655.187399, 25.596629\n",
            "Epoch 35/300, Loss: 652.417713, 25.542469\n",
            "Epoch 36/300, Loss: 648.414795, 25.463990\n",
            "Epoch 37/300, Loss: 644.049530, 25.378131\n",
            "Epoch 38/300, Loss: 638.847018, 25.275423\n",
            "Epoch 39/300, Loss: 634.860083, 25.196430\n",
            "Epoch 40/300, Loss: 632.603995, 25.151620\n",
            "Epoch 41/300, Loss: 625.995158, 25.019895\n",
            "Epoch 42/300, Loss: 624.453416, 24.989066\n",
            "Epoch 43/300, Loss: 619.922881, 24.898251\n",
            "Epoch 44/300, Loss: 617.133659, 24.842175\n",
            "Epoch 45/300, Loss: 613.231451, 24.763510\n",
            "Epoch 46/300, Loss: 611.876091, 24.736129\n",
            "Epoch 47/300, Loss: 610.721461, 24.712779\n",
            "Epoch 48/300, Loss: 606.480985, 24.626835\n",
            "Epoch 49/300, Loss: 602.397471, 24.543787\n",
            "Epoch 50/300, Loss: 602.641650, 24.548761\n",
            "Epoch 51/300, Loss: 597.431274, 24.442407\n",
            "Epoch 52/300, Loss: 596.150263, 24.416189\n",
            "Epoch 53/300, Loss: 591.545942, 24.321717\n",
            "Epoch 54/300, Loss: 590.098724, 24.291948\n",
            "Epoch 55/300, Loss: 587.843305, 24.245480\n",
            "Epoch 56/300, Loss: 588.271462, 24.254308\n",
            "Epoch 57/300, Loss: 587.574431, 24.239935\n",
            "Epoch 58/300, Loss: 582.221947, 24.129276\n",
            "Epoch 59/300, Loss: 579.564298, 24.074142\n",
            "Epoch 60/300, Loss: 580.274315, 24.088884\n",
            "Epoch 61/300, Loss: 577.944888, 24.040484\n",
            "Epoch 62/300, Loss: 573.383037, 23.945418\n",
            "Epoch 63/300, Loss: 572.541524, 23.927840\n",
            "Epoch 64/300, Loss: 569.310031, 23.860219\n",
            "Epoch 65/300, Loss: 569.188861, 23.857679\n",
            "Epoch 66/300, Loss: 567.441694, 23.821035\n",
            "Epoch 67/300, Loss: 566.222639, 23.795433\n",
            "Epoch 68/300, Loss: 564.612048, 23.761567\n",
            "Epoch 69/300, Loss: 563.309755, 23.734147\n",
            "Epoch 70/300, Loss: 561.669462, 23.699567\n",
            "Epoch 71/300, Loss: 560.059660, 23.665580\n",
            "Epoch 72/300, Loss: 559.153239, 23.646421\n",
            "Epoch 73/300, Loss: 555.352685, 23.565922\n",
            "Epoch 74/300, Loss: 556.219838, 23.584313\n",
            "Epoch 75/300, Loss: 556.719450, 23.594903\n",
            "Epoch 76/300, Loss: 551.746269, 23.489280\n",
            "Epoch 77/300, Loss: 555.817954, 23.575792\n",
            "Epoch 78/300, Loss: 555.008540, 23.558619\n",
            "Epoch 79/300, Loss: 551.348681, 23.480815\n",
            "Epoch 80/300, Loss: 551.326235, 23.480337\n",
            "Epoch 81/300, Loss: 548.824538, 23.427004\n",
            "Epoch 82/300, Loss: 544.974791, 23.344695\n",
            "Epoch 83/300, Loss: 545.985589, 23.366335\n",
            "Epoch 84/300, Loss: 542.190485, 23.284984\n",
            "Epoch 85/300, Loss: 540.619361, 23.251223\n",
            "Epoch 86/300, Loss: 542.504400, 23.291724\n",
            "Epoch 87/300, Loss: 536.653898, 23.165792\n",
            "Epoch 88/300, Loss: 538.043750, 23.195770\n",
            "Epoch 89/300, Loss: 537.707818, 23.188528\n",
            "Epoch 90/300, Loss: 535.283052, 23.136185\n",
            "Epoch 91/300, Loss: 535.436248, 23.139495\n",
            "Epoch 92/300, Loss: 532.852158, 23.083591\n",
            "Epoch 93/300, Loss: 531.518473, 23.054684\n",
            "Epoch 94/300, Loss: 530.248624, 23.027128\n",
            "Epoch 95/300, Loss: 528.710538, 22.993706\n",
            "Epoch 96/300, Loss: 528.524018, 22.989650\n",
            "Epoch 97/300, Loss: 525.633779, 22.926704\n",
            "Epoch 98/300, Loss: 522.882760, 22.866630\n",
            "Epoch 99/300, Loss: 523.702249, 22.884542\n",
            "Epoch 100/300, Loss: 521.586676, 22.838272\n",
            "Epoch 101/300, Loss: 521.833261, 22.843670\n",
            "Epoch 102/300, Loss: 519.727801, 22.797539\n",
            "Epoch 103/300, Loss: 519.263518, 22.787354\n",
            "Epoch 104/300, Loss: 516.544905, 22.727624\n",
            "Epoch 105/300, Loss: 519.378755, 22.789883\n",
            "Epoch 106/300, Loss: 517.461532, 22.747781\n",
            "Epoch 107/300, Loss: 514.973020, 22.693017\n",
            "Epoch 108/300, Loss: 514.778235, 22.688725\n",
            "Epoch 109/300, Loss: 514.779929, 22.688762\n",
            "Epoch 110/300, Loss: 512.655170, 22.641890\n",
            "Epoch 111/300, Loss: 511.546901, 22.617403\n",
            "Epoch 112/300, Loss: 513.024777, 22.650050\n",
            "Epoch 113/300, Loss: 511.098069, 22.607478\n",
            "Epoch 114/300, Loss: 508.772328, 22.555982\n",
            "Epoch 115/300, Loss: 509.240992, 22.566369\n",
            "Epoch 116/300, Loss: 509.833245, 22.579487\n",
            "Epoch 117/300, Loss: 509.112759, 22.563527\n",
            "Epoch 118/300, Loss: 509.979310, 22.582721\n",
            "Epoch 119/300, Loss: 505.299361, 22.478865\n",
            "Epoch 120/300, Loss: 506.541675, 22.506481\n",
            "Epoch 121/300, Loss: 504.957902, 22.471268\n",
            "Epoch 122/300, Loss: 508.290596, 22.545301\n",
            "Epoch 123/300, Loss: 505.238562, 22.477512\n",
            "Epoch 124/300, Loss: 503.612589, 22.441314\n",
            "Epoch 125/300, Loss: 503.038061, 22.428510\n",
            "Epoch 126/300, Loss: 504.453632, 22.460045\n",
            "Epoch 127/300, Loss: 502.642974, 22.419701\n",
            "Epoch 128/300, Loss: 504.137263, 22.453001\n",
            "Epoch 129/300, Loss: 502.488526, 22.416256\n",
            "Epoch 130/300, Loss: 502.086054, 22.407277\n",
            "Epoch 131/300, Loss: 500.063396, 22.362097\n",
            "Epoch 132/300, Loss: 500.246525, 22.366192\n",
            "Epoch 133/300, Loss: 499.232264, 22.343506\n",
            "Epoch 134/300, Loss: 498.756728, 22.332862\n",
            "Epoch 135/300, Loss: 499.145866, 22.341573\n",
            "Epoch 136/300, Loss: 499.895517, 22.358343\n",
            "Epoch 137/300, Loss: 497.033793, 22.294255\n",
            "Epoch 138/300, Loss: 496.312336, 22.278068\n",
            "Epoch 139/300, Loss: 498.628287, 22.329986\n",
            "Epoch 140/300, Loss: 494.490034, 22.237132\n",
            "Epoch 141/300, Loss: 498.281687, 22.322224\n",
            "Epoch 142/300, Loss: 496.148908, 22.274400\n",
            "Epoch 143/300, Loss: 496.224580, 22.276099\n",
            "Epoch 144/300, Loss: 496.638868, 22.285396\n",
            "Epoch 145/300, Loss: 493.402440, 22.212664\n",
            "Epoch 146/300, Loss: 491.699028, 22.174288\n",
            "Epoch 147/300, Loss: 492.650748, 22.195737\n",
            "Epoch 148/300, Loss: 495.319957, 22.255785\n",
            "Epoch 149/300, Loss: 491.277423, 22.164779\n",
            "Epoch 150/300, Loss: 494.496394, 22.237275\n",
            "Epoch 151/300, Loss: 492.277222, 22.187321\n",
            "Epoch 152/300, Loss: 491.508343, 22.169987\n",
            "Epoch 153/300, Loss: 490.974865, 22.157953\n",
            "Epoch 154/300, Loss: 491.877162, 22.178304\n",
            "Epoch 155/300, Loss: 489.942200, 22.134638\n",
            "Epoch 156/300, Loss: 490.923449, 22.156792\n",
            "Epoch 157/300, Loss: 488.309152, 22.097718\n",
            "Epoch 158/300, Loss: 491.496226, 22.169714\n",
            "Epoch 159/300, Loss: 488.708227, 22.106746\n",
            "Epoch 160/300, Loss: 489.140770, 22.116527\n",
            "Epoch 161/300, Loss: 489.579143, 22.126435\n",
            "Epoch 162/300, Loss: 488.218543, 22.095668\n",
            "Epoch 163/300, Loss: 486.352551, 22.053402\n",
            "Epoch 164/300, Loss: 490.833390, 22.154760\n",
            "Epoch 165/300, Loss: 485.361657, 22.030925\n",
            "Epoch 166/300, Loss: 488.069052, 22.092285\n",
            "Epoch 167/300, Loss: 484.475066, 22.010794\n",
            "Epoch 168/300, Loss: 488.059272, 22.092064\n",
            "Epoch 169/300, Loss: 485.785807, 22.040549\n",
            "Epoch 170/300, Loss: 484.547590, 22.012442\n",
            "Epoch 171/300, Loss: 481.761561, 21.949067\n",
            "Epoch 172/300, Loss: 485.233790, 22.028023\n",
            "Epoch 173/300, Loss: 482.411080, 21.963859\n",
            "Epoch 174/300, Loss: 484.837598, 22.019028\n",
            "Epoch 175/300, Loss: 484.043175, 22.000981\n",
            "Epoch 176/300, Loss: 484.101550, 22.002308\n",
            "Epoch 177/300, Loss: 485.574822, 22.035762\n",
            "Epoch 178/300, Loss: 485.768931, 22.040166\n",
            "Epoch 179/300, Loss: 485.143826, 22.025981\n",
            "Epoch 180/300, Loss: 484.455251, 22.010344\n",
            "Epoch 181/300, Loss: 484.381823, 22.008676\n",
            "Epoch 182/300, Loss: 484.855229, 22.019428\n",
            "Epoch 183/300, Loss: 483.015105, 21.977605\n",
            "Epoch 184/300, Loss: 489.442122, 22.123339\n",
            "Epoch 185/300, Loss: 477.629910, 21.854746\n",
            "Epoch 186/300, Loss: 480.740365, 21.925792\n",
            "Epoch 187/300, Loss: 479.767287, 21.903591\n",
            "Epoch 188/300, Loss: 479.761127, 21.903450\n",
            "Epoch 189/300, Loss: 480.121870, 21.911683\n",
            "Epoch 190/300, Loss: 480.316548, 21.916125\n",
            "Epoch 191/300, Loss: 478.266542, 21.869306\n",
            "Epoch 192/300, Loss: 477.110997, 21.842871\n",
            "Epoch 193/300, Loss: 476.091879, 21.819530\n",
            "Epoch 194/300, Loss: 477.801066, 21.858661\n",
            "Epoch 195/300, Loss: 475.461660, 21.805083\n",
            "Epoch 196/300, Loss: 476.065169, 21.818918\n",
            "Epoch 197/300, Loss: 476.137623, 21.820578\n",
            "Epoch 198/300, Loss: 474.111535, 21.774102\n",
            "Epoch 199/300, Loss: 475.521931, 21.806465\n",
            "Epoch 200/300, Loss: 473.896272, 21.769159\n",
            "Epoch 201/300, Loss: 475.783109, 21.812453\n",
            "Epoch 202/300, Loss: 476.415300, 21.826940\n",
            "Epoch 203/300, Loss: 475.508771, 21.806164\n",
            "Epoch 204/300, Loss: 474.831394, 21.790626\n",
            "Epoch 205/300, Loss: 477.006524, 21.840479\n",
            "Epoch 206/300, Loss: 478.517529, 21.875044\n",
            "Epoch 207/300, Loss: 474.107268, 21.774004\n",
            "Epoch 208/300, Loss: 474.403046, 21.780795\n",
            "Epoch 209/300, Loss: 471.009188, 21.702746\n",
            "Epoch 210/300, Loss: 473.426673, 21.758370\n",
            "Epoch 211/300, Loss: 474.378675, 21.780236\n",
            "Epoch 212/300, Loss: 474.583194, 21.784930\n",
            "Epoch 213/300, Loss: 473.390663, 21.757543\n",
            "Epoch 214/300, Loss: 474.324776, 21.778999\n",
            "Epoch 215/300, Loss: 472.257415, 21.731484\n",
            "Epoch 216/300, Loss: 475.342157, 21.802343\n",
            "Epoch 217/300, Loss: 468.939832, 21.655019\n",
            "Epoch 218/300, Loss: 472.159035, 21.729221\n",
            "Epoch 219/300, Loss: 471.944937, 21.724294\n",
            "Epoch 220/300, Loss: 469.109426, 21.658934\n",
            "Epoch 221/300, Loss: 470.982932, 21.702141\n",
            "Epoch 222/300, Loss: 470.932080, 21.700970\n",
            "Epoch 223/300, Loss: 472.763154, 21.743117\n",
            "Epoch 224/300, Loss: 473.618579, 21.762780\n",
            "Epoch 225/300, Loss: 470.284836, 21.686052\n",
            "Epoch 226/300, Loss: 472.181291, 21.729733\n",
            "Epoch 227/300, Loss: 469.896743, 21.677102\n",
            "Epoch 228/300, Loss: 470.096970, 21.681720\n",
            "Epoch 229/300, Loss: 467.192942, 21.614646\n",
            "Epoch 230/300, Loss: 466.930175, 21.608567\n",
            "Epoch 231/300, Loss: 466.578701, 21.600433\n",
            "Epoch 232/300, Loss: 466.583168, 21.600536\n",
            "Epoch 233/300, Loss: 466.425494, 21.596886\n",
            "Epoch 234/300, Loss: 465.274877, 21.570231\n",
            "Epoch 235/300, Loss: 465.320712, 21.571294\n",
            "Epoch 236/300, Loss: 468.076168, 21.635068\n",
            "Epoch 237/300, Loss: 467.232193, 21.615554\n",
            "Epoch 238/300, Loss: 468.893698, 21.653953\n",
            "Epoch 239/300, Loss: 467.328729, 21.617787\n",
            "Epoch 240/300, Loss: 466.859201, 21.606925\n",
            "Epoch 241/300, Loss: 467.101500, 21.612531\n",
            "Epoch 242/300, Loss: 465.356968, 21.572134\n",
            "Epoch 243/300, Loss: 466.146533, 21.590427\n",
            "Epoch 244/300, Loss: 465.343540, 21.571823\n",
            "Epoch 245/300, Loss: 465.435139, 21.573946\n",
            "Epoch 246/300, Loss: 464.109096, 21.543191\n",
            "Epoch 247/300, Loss: 467.607593, 21.624236\n",
            "Epoch 248/300, Loss: 465.595268, 21.577657\n",
            "Epoch 249/300, Loss: 464.362036, 21.549061\n",
            "Epoch 250/300, Loss: 465.048614, 21.564986\n",
            "Epoch 251/300, Loss: 463.240455, 21.523022\n",
            "Epoch 252/300, Loss: 465.950080, 21.585877\n",
            "Epoch 253/300, Loss: 466.817391, 21.605957\n",
            "Epoch 254/300, Loss: 464.693427, 21.556749\n",
            "Epoch 255/300, Loss: 464.456103, 21.551244\n",
            "Epoch 256/300, Loss: 462.110585, 21.496758\n",
            "Epoch 257/300, Loss: 464.616579, 21.554966\n",
            "Epoch 258/300, Loss: 465.140748, 21.567122\n",
            "Epoch 259/300, Loss: 460.966456, 21.470129\n",
            "Epoch 260/300, Loss: 464.127009, 21.543607\n",
            "Epoch 261/300, Loss: 462.145389, 21.497567\n",
            "Epoch 262/300, Loss: 464.970916, 21.563184\n",
            "Epoch 263/300, Loss: 460.630794, 21.462311\n",
            "Epoch 264/300, Loss: 458.254956, 21.406890\n",
            "Epoch 265/300, Loss: 461.162071, 21.474684\n",
            "Epoch 266/300, Loss: 461.296902, 21.477823\n",
            "Epoch 267/300, Loss: 461.193129, 21.475408\n",
            "Epoch 268/300, Loss: 460.381176, 21.456495\n",
            "Epoch 269/300, Loss: 457.091462, 21.379697\n",
            "Epoch 270/300, Loss: 460.008409, 21.447807\n",
            "Epoch 271/300, Loss: 458.511438, 21.412880\n",
            "Epoch 272/300, Loss: 459.443346, 21.434630\n",
            "Epoch 273/300, Loss: 462.040562, 21.495129\n",
            "Epoch 274/300, Loss: 457.630832, 21.392308\n",
            "Epoch 275/300, Loss: 461.624714, 21.485454\n",
            "Epoch 276/300, Loss: 458.837983, 21.420504\n",
            "Epoch 277/300, Loss: 462.641106, 21.509094\n",
            "Epoch 278/300, Loss: 459.883867, 21.444903\n",
            "Epoch 279/300, Loss: 459.620354, 21.438758\n",
            "Epoch 280/300, Loss: 460.061256, 21.449039\n",
            "Epoch 281/300, Loss: 459.453548, 21.434868\n",
            "Epoch 282/300, Loss: 457.653126, 21.392829\n",
            "Epoch 283/300, Loss: 457.261862, 21.383682\n",
            "Epoch 284/300, Loss: 459.277096, 21.430751\n",
            "Epoch 285/300, Loss: 457.978239, 21.400426\n",
            "Epoch 286/300, Loss: 461.535363, 21.483374\n",
            "Epoch 287/300, Loss: 456.180430, 21.358381\n",
            "Epoch 288/300, Loss: 457.365525, 21.386106\n",
            "Epoch 289/300, Loss: 456.772920, 21.372246\n",
            "Epoch 290/300, Loss: 458.587804, 21.414663\n",
            "Epoch 291/300, Loss: 455.549796, 21.343613\n",
            "Epoch 292/300, Loss: 457.584733, 21.391230\n",
            "Epoch 293/300, Loss: 456.484159, 21.365490\n",
            "Epoch 294/300, Loss: 456.160350, 21.357911\n",
            "Epoch 295/300, Loss: 455.021308, 21.331228\n",
            "Epoch 296/300, Loss: 455.189992, 21.335182\n",
            "Epoch 297/300, Loss: 455.427627, 21.340750\n",
            "Epoch 298/300, Loss: 454.636599, 21.322209\n",
            "Epoch 299/300, Loss: 456.406860, 21.363681\n",
            "Epoch 300/300, Loss: 456.306723, 21.361337\n"
          ]
        },
        {
          "data": {
            "image/png": "[encoded data removed]",
            "text/plain": [
              "<Figure size 1200x1000 with 1 Axes>"
            ]
          },
          "metadata": {},
          "output_type": "display_data"
        }
      ],
      "source": [
        "device = torch.device(\"cuda\" if torch.cuda.is_available() else \"cpu\")\n",
        "model = CNN_LSTM().to(device)\n",
        "criterion = CustomLoss().to(device)\n",
        "optimizer = optim.Adam(model.parameters(), lr=0.0005, weight_decay=1e-5)\n",
        "epochs = 300\n",
        "losses = list()\n",
        "for epoch in range(epochs):\n",
        "    model.train()\n",
        "    total_loss = 0\n",
        "    for X_batch, y_batch in train_loader:\n",
        "        X_batch, y_batch = X_batch.to(device), y_batch.to(device)\n",
        "\n",
        "        optimizer.zero_grad()\n",
        "        y_pred = model(X_batch)\n",
        "        loss = criterion(y_pred, y_batch)\n",
        "        loss.backward()\n",
        "        optimizer.step()\n",
        "\n",
        "        total_loss += loss.item()\n",
        "        train_loss = total_loss / len(train_loader)\n",
        "    losses.append(train_loss)\n",
        "\n",
        "    print(f\"Epoch {epoch+1}/{epochs}, Loss: {train_loss:.6f}, {math.sqrt(train_loss):.6f}\")\n",
        "\n",
        "plt.figure(figsize=(12, 10))\n",
        "plt.plot(losses)\n",
        "plt.xlabel('Epochs')\n",
        "plt.ylabel('Loss')\n",
        "plt.title('Training Loss')\n",
        "plt.grid()\n",
        "plt.show()"
      ]
    },
    {
      "cell_type": "code",
      "execution_count": 23,
      "metadata": {
        "id": "-QZG9q566ylB"
      },
      "outputs": [],
      "source": [
        "model.eval()\n",
        "predictions = []\n",
        "actuals = []\n",
        "\n",
        "# Score en test\n",
        "with torch.no_grad():\n",
        "    for X_batch, y_batch in test_loader:\n",
        "        X_batch, y_batch = X_batch.to(device), y_batch.to(device)\n",
        "        y_pred = model(X_batch)\n",
        "\n",
        "        predictions.append(y_pred.cpu().numpy())\n",
        "        actuals.append(y_batch.cpu().numpy())\n",
        "\n",
        "# Convertir listas en arrays\n",
        "predictions_test = np.concatenate(predictions).reshape(-1, 5)\n",
        "actuals_test = np.concatenate(actuals).reshape(-1, 5)\n",
        "\n",
        "# Score en train\n",
        "with torch.no_grad():\n",
        "    for X_batch, y_batch in train_loader:\n",
        "        X_batch, y_batch = X_batch.to(device), y_batch.to(device)\n",
        "        y_pred = model(X_batch)\n",
        "\n",
        "        predictions.append(y_pred.cpu().numpy())\n",
        "        actuals.append(y_batch.cpu().numpy())\n",
        "\n",
        "# Convertir listas en arrays\n",
        "predictions_train = np.concatenate(predictions).reshape(-1, 5)\n",
        "actuals_train = np.concatenate(actuals).reshape(-1, 5)"
      ]
    },
    {
      "cell_type": "code",
      "execution_count": 24,
      "metadata": {
        "id": "VtM2sOEp6yiZ"
      },
      "outputs": [
        {
          "name": "stdout",
          "output_type": "stream",
          "text": [
            "Evaluación del modelo:\n",
            "MAE Train: 0.17625958 MAE Test: 0.2132043\n",
            "MSE Train: 0.061992794 MSE Test: 0.096304424\n",
            "RMSE Train: 0.24898352 RMSE Test: 0.31032953\n"
          ]
        }
      ],
      "source": [
        "print(\"Evaluación del modelo:\")\n",
        "print(\"MAE Train:\", np.mean(np.abs(predictions_train - actuals_train)),\n",
        "      \"MAE Test:\", np.mean(np.abs(predictions_test - actuals_test)))\n",
        "print(\"MSE Train:\", np.mean((predictions_train - actuals_train) ** 2),\n",
        "      \"MSE Test:\", np.mean((predictions_test - actuals_test) ** 2))\n",
        "print(\"RMSE Train:\", np.sqrt(np.mean((predictions_train - actuals_train) ** 2)),\n",
        "      \"RMSE Test:\", np.sqrt(np.mean((predictions_test - actuals_test) ** 2)))"
      ]
    },
    {
      "cell_type": "markdown",
      "metadata": {},
      "source": [
        "**V4 eval (20 epochs)**\n",
        "\n",
        "Evaluación del modelo:\n",
        "\n",
        "MAE Train: 0.19669463 MAE Test: 0.2098076\n",
        "\n",
        "MSE Train: 0.078998394 MSE Test: 0.094072245\n",
        "\n",
        "RMSE Train: 0.28106654 RMSE Test: 0.306712\n",
        "\n",
        "**V3 eval (50 epochs)**\n",
        "\n",
        "Evaluación del modelo:\n",
        "\n",
        "MAE Train: 0.19468875 MAE Test: 0.21950419\n",
        "\n",
        "MSE Train: 0.07334924 MSE Test: 0.09926174\n",
        "\n",
        "RMSE Train: 0.27083063 RMSE Test: 0.31505832\n",
        "\n",
        "**V3 eval (300 epochs)**\n",
        "\n",
        "MAE Train: 0.17625958 MAE Test: 0.2132043\n",
        "\n",
        "MSE Train: 0.061992794 MSE Test: 0.096304424\n",
        "\n",
        "RMSE Train: 0.24898352 RMSE Test: 0.31032953"
      ]
    },
    {
      "cell_type": "code",
      "execution_count": 25,
      "metadata": {
        "id": "RSCsJRXw6ygD"
      },
      "outputs": [],
      "source": [
        "torch.save(model.state_dict(), \"../weights/cnn_lstm_index_v4_weights_3.pth\")\n",
        "torch.save(model, \"../models/cnn_lstm_index_v4_model_3.pth\")"
      ]
    },
    {
      "cell_type": "code",
      "execution_count": null,
      "metadata": {
        "id": "AwxJkDgo6ydY"
      },
      "outputs": [],
      "source": []
    }
  ],
  "metadata": {
    "accelerator": "GPU",
    "colab": {
      "gpuType": "T4",
      "provenance": []
    },
    "kernelspec": {
      "display_name": "base",
      "language": "python",
      "name": "python3"
    },
    "language_info": {
      "codemirror_mode": {
        "name": "ipython",
        "version": 3
      },
      "file_extension": ".py",
      "mimetype": "text/x-python",
      "name": "python",
      "nbconvert_exporter": "python",
      "pygments_lexer": "ipython3",
      "version": "3.11.7"
    }
  },
  "nbformat": 4,
  "nbformat_minor": 0
}

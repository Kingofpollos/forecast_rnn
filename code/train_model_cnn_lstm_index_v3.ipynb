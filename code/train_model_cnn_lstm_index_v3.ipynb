{
  "cells": [
    {
      "cell_type": "code",
      "execution_count": 1,
      "metadata": {
        "id": "oINUI50l5-Hc"
      },
      "outputs": [],
      "source": [
        "from re import S\n",
        "import torch\n",
        "import torch.nn as nn\n",
        "import torch.optim as optim\n",
        "import numpy as np\n",
        "import pandas as pd\n",
        "from torch.utils.data import DataLoader, TensorDataset\n",
        "from sklearn.model_selection import train_test_split\n",
        "import matplotlib.pyplot as plt\n",
        "import math"
      ]
    },
    {
      "cell_type": "code",
      "execution_count": 2,
      "metadata": {
        "colab": {
          "base_uri": "https://localhost:8080/"
        },
        "id": "uBArSB5t6Jyc",
        "outputId": "d772d076-7898-4adb-b439-dd1359e88f60"
      },
      "outputs": [
        {
          "name": "stdout",
          "output_type": "stream",
          "text": [
            "cuda\n"
          ]
        }
      ],
      "source": [
        "device = torch.device(\"cuda\" if torch.cuda.is_available() else \"cpu\")\n",
        "print(device)"
      ]
    },
    {
      "cell_type": "markdown",
      "metadata": {
        "id": "mN4FGVELlAtX"
      },
      "source": [
        "# Carga de datos"
      ]
    },
    {
      "cell_type": "code",
      "execution_count": 3,
      "metadata": {
        "id": "_ERrSl2x6J05"
      },
      "outputs": [],
      "source": [
        "df = pd.read_csv('close_normalized_prices_index.csv')\n",
        "# df['X'] = df['X'].apply(lambda x: np.fromstring(x.strip(\"[]\"), sep=' '))\n",
        "df['Y'] = df['Y'].apply(lambda x: np.fromstring(x.strip(\"[]\"), sep=' '))"
      ]
    },
    {
      "cell_type": "code",
      "execution_count": 4,
      "metadata": {},
      "outputs": [],
      "source": [
        "df['X'] = df['X'].apply(lambda x:np.fromstring(x.replace('[', '').replace(']', '').replace('\\n', ' '), sep=' ').reshape(14, 28))"
      ]
    },
    {
      "cell_type": "markdown",
      "metadata": {
        "id": "mxg19-r2nnvR"
      },
      "source": [
        "# Division train-test"
      ]
    },
    {
      "cell_type": "code",
      "execution_count": 5,
      "metadata": {
        "id": "l3weKfJ6nmjZ"
      },
      "outputs": [],
      "source": [
        "X_train, X_test, y_train, y_test = train_test_split(np.stack(df.X.to_numpy()).astype(np.float32),\n",
        "                                                    np.stack(df.Y.to_numpy()).astype(np.float32),\n",
        "                                                    test_size=0.25,\n",
        "                                                    random_state=42)"
      ]
    },
    {
      "cell_type": "markdown",
      "metadata": {
        "id": "zAWsJsr3oX-5"
      },
      "source": [
        "# Conversión a tensores"
      ]
    },
    {
      "cell_type": "code",
      "execution_count": 6,
      "metadata": {
        "id": "iLMOxpIQ6xH1"
      },
      "outputs": [],
      "source": [
        "X_train = torch.tensor(X_train, dtype=torch.float32).reshape(-1, 14, 28)\n",
        "y_train = torch.tensor(y_train, dtype=torch.float32)\n",
        "\n",
        "X_test = torch.tensor(X_test, dtype=torch.float32).reshape(-1, 14, 28)\n",
        "y_test = torch.tensor(y_test, dtype=torch.float32)"
      ]
    },
    {
      "cell_type": "markdown",
      "metadata": {
        "id": "6Oy5imLlozhH"
      },
      "source": [
        "# Dataloaders"
      ]
    },
    {
      "cell_type": "code",
      "execution_count": 7,
      "metadata": {
        "id": "GBfBnQHP6ypj"
      },
      "outputs": [],
      "source": [
        "# Crear DataLoaders\n",
        "batch_size = 100\n",
        "train_dataset = TensorDataset(X_train, y_train)\n",
        "test_dataset = TensorDataset(X_test, y_test)"
      ]
    },
    {
      "cell_type": "code",
      "execution_count": 8,
      "metadata": {
        "id": "4hqF7Hl16ynN"
      },
      "outputs": [],
      "source": [
        "train_loader = DataLoader(train_dataset, batch_size=batch_size, shuffle=True)\n",
        "test_loader = DataLoader(test_dataset, batch_size=batch_size, shuffle=False)"
      ]
    },
    {
      "cell_type": "markdown",
      "metadata": {
        "id": "3oaiEsIhpZbt"
      },
      "source": [
        "# Modelo"
      ]
    },
    {
      "cell_type": "code",
      "execution_count": 9,
      "metadata": {
        "id": "0h8KEcJs63M6"
      },
      "outputs": [],
      "source": [
        "class CNN_LSTM(nn.Module):\n",
        "\n",
        "  def __init__(self):\n",
        "    super(CNN_LSTM, self).__init__()\n",
        "    # Capa Conv1D para extracción de características espaciales\n",
        "    self.conv1 = nn.Conv1d(in_channels=14, out_channels=64, kernel_size=5, padding=1)\n",
        "    self.conv2 = nn.Conv1d(in_channels=64, out_channels=128, kernel_size=5, padding=1)\n",
        "    self.conv3 = nn.Conv1d(in_channels=128, out_channels=256, kernel_size=5, padding=1)\n",
        "\n",
        "    # Batch normalization\n",
        "    self.bn1 = nn.BatchNorm1d(64)\n",
        "    self.bn2 = nn.BatchNorm1d(128)\n",
        "    self.bn3 = nn.BatchNorm1d(256)\n",
        "\n",
        "    # Max Pool\n",
        "    self.pool = nn.MaxPool1d(kernel_size=2)\n",
        "\n",
        "    # Dropout\n",
        "    self.dropout_layer = nn.Dropout(p=0.15)\n",
        "\n",
        "    # ReLu\n",
        "    self.relu = nn.ReLU()\n",
        "\n",
        "    # Capa LSTM\n",
        "    self.lstm = nn.LSTM(input_size=256, hidden_size=64, num_layers=3, batch_first=True)\n",
        "\n",
        "    # Capa Fully Connected\n",
        "    self.fc0 = nn.Linear(64, 64)\n",
        "    self.fc1 = nn.Linear(64, 32) \n",
        "    self.fc2 = nn.Linear(32, 16)  \n",
        "    self.fc3 = nn.Linear(16, 5)  \n",
        "\n",
        "    # Inicialización de pesos\n",
        "    self._initialize_weights()\n",
        "\n",
        "  def _initialize_weights(self):\n",
        "    for m in self.modules():\n",
        "      if isinstance(m, nn.Conv1d) or isinstance(m, nn.Linear):\n",
        "        nn.init.xavier_uniform_(m.weight)\n",
        "        if m.bias is not None:\n",
        "          nn.init.zeros_(m.bias)\n",
        "\n",
        "  def forward(self, x, embeddings=False):\n",
        "    # Primer capa completa\n",
        "    x = self.conv1(x)\n",
        "    x = self.bn1(x)\n",
        "    x = self.relu(x)\n",
        "    x = self.pool(x)\n",
        "\n",
        "    # Segunda capa completa\n",
        "    x = self.conv2(x)\n",
        "    x = self.bn2(x)\n",
        "    x = self.relu(x)\n",
        "    x = self.pool(x)\n",
        "\n",
        "    # Tercera capa completa\n",
        "    x = self.conv3(x)\n",
        "    x = self.bn3(x)\n",
        "    x = self.relu(x)\n",
        "    x = self.pool(x)\n",
        "\n",
        "    # Reordenar datos\n",
        "    # Antes batch, channels, seq_length\n",
        "    x = x.permute(0, 2, 1)\n",
        "    # Después batch, seq_length, features\n",
        "\n",
        "    if embeddings:\n",
        "      return x\n",
        "\n",
        "    # Capas LSTM\n",
        "    x, _ = self.lstm(x)\n",
        "\n",
        "    # Se toma la ultima salida de secuencia, que es la representación de la serie\n",
        "    x = x[:, -1, :]\n",
        "\n",
        "    # Capas Fully Connected\n",
        "    x = self.dropout_layer(x)\n",
        "    x = self.fc0(x)\n",
        "    x = self.relu(x)\n",
        "\n",
        "    x = self.dropout_layer(x)\n",
        "    x = self.fc1(x)\n",
        "    x = self.relu(x)\n",
        "\n",
        "    x = self.dropout_layer(x)\n",
        "    x = self.fc2(x)\n",
        "    x = self.relu(x)\n",
        "\n",
        "    x = self.dropout_layer(x)\n",
        "    x = self.fc3(x)\n",
        "\n",
        "    return x"
      ]
    },
    {
      "cell_type": "markdown",
      "metadata": {
        "id": "BfaemLPmGofJ"
      },
      "source": [
        "# Función de perdida propia"
      ]
    },
    {
      "cell_type": "code",
      "execution_count": 10,
      "metadata": {
        "id": "V6YYUXqmGoHI"
      },
      "outputs": [],
      "source": [
        "class CustomLoss(nn.Module):\n",
        "    def __init__(self):\n",
        "        super(CustomLoss, self).__init__()\n",
        "\n",
        "    def forward(self, y_pred, y_true):\n",
        "        mse = torch.mean(((y_pred - y_true)*100) ** 2)\n",
        "        return mse"
      ]
    },
    {
      "cell_type": "markdown",
      "metadata": {
        "id": "3CK6LHxmvzme"
      },
      "source": [
        "# Train model"
      ]
    },
    {
      "cell_type": "code",
      "execution_count": 23,
      "metadata": {
        "colab": {
          "base_uri": "https://localhost:8080/",
          "height": 373
        },
        "id": "zS3LZBRjGhAE",
        "outputId": "e7fc5a0c-6d6d-4dcd-fd51-9051547eac19"
      },
      "outputs": [
        {
          "name": "stdout",
          "output_type": "stream",
          "text": [
            "Epoch 1/300, Loss: 1167.640305, 34.170752\n",
            "Epoch 2/300, Loss: 1031.190326, 32.112152\n",
            "Epoch 3/300, Loss: 1006.668773, 31.728044\n",
            "Epoch 4/300, Loss: 985.780277, 31.397138\n",
            "Epoch 5/300, Loss: 963.921375, 31.047083\n",
            "Epoch 6/300, Loss: 945.143188, 30.743181\n",
            "Epoch 7/300, Loss: 925.668727, 30.424804\n",
            "Epoch 8/300, Loss: 907.678182, 30.127698\n",
            "Epoch 9/300, Loss: 888.587054, 29.809177\n",
            "Epoch 10/300, Loss: 870.094108, 29.497358\n",
            "Epoch 11/300, Loss: 850.188675, 29.157995\n",
            "Epoch 12/300, Loss: 834.520888, 28.888075\n",
            "Epoch 13/300, Loss: 815.386307, 28.554970\n",
            "Epoch 14/300, Loss: 799.285672, 28.271641\n",
            "Epoch 15/300, Loss: 782.723209, 27.977191\n",
            "Epoch 16/300, Loss: 768.243576, 27.717207\n",
            "Epoch 17/300, Loss: 755.400051, 27.484542\n",
            "Epoch 18/300, Loss: 742.142977, 27.242301\n",
            "Epoch 19/300, Loss: 731.939433, 27.054379\n",
            "Epoch 20/300, Loss: 718.501516, 26.804879\n",
            "Epoch 21/300, Loss: 712.614539, 26.694841\n",
            "Epoch 22/300, Loss: 699.857624, 26.454822\n",
            "Epoch 23/300, Loss: 691.824958, 26.302566\n",
            "Epoch 24/300, Loss: 680.226026, 26.081143\n",
            "Epoch 25/300, Loss: 673.936014, 25.960278\n",
            "Epoch 26/300, Loss: 664.548094, 25.778830\n",
            "Epoch 27/300, Loss: 658.282736, 25.657021\n",
            "Epoch 28/300, Loss: 651.166087, 25.517956\n",
            "Epoch 29/300, Loss: 643.315931, 25.363673\n",
            "Epoch 30/300, Loss: 635.275157, 25.204665\n",
            "Epoch 31/300, Loss: 631.473180, 25.129130\n",
            "Epoch 32/300, Loss: 624.798090, 24.995961\n",
            "Epoch 33/300, Loss: 620.965914, 24.919188\n",
            "Epoch 34/300, Loss: 612.831656, 24.755437\n",
            "Epoch 35/300, Loss: 608.319457, 24.664133\n",
            "Epoch 36/300, Loss: 606.283979, 24.622835\n",
            "Epoch 37/300, Loss: 601.132980, 24.518013\n",
            "Epoch 38/300, Loss: 596.681261, 24.427060\n",
            "Epoch 39/300, Loss: 597.026900, 24.434134\n",
            "Epoch 40/300, Loss: 591.820174, 24.327354\n",
            "Epoch 41/300, Loss: 584.222555, 24.170696\n",
            "Epoch 42/300, Loss: 582.710268, 24.139392\n",
            "Epoch 43/300, Loss: 577.998442, 24.041598\n",
            "Epoch 44/300, Loss: 573.561043, 23.949134\n",
            "Epoch 45/300, Loss: 572.449300, 23.925913\n",
            "Epoch 46/300, Loss: 569.391498, 23.861926\n",
            "Epoch 47/300, Loss: 564.466993, 23.758514\n",
            "Epoch 48/300, Loss: 560.464050, 23.674122\n",
            "Epoch 49/300, Loss: 559.422483, 23.652114\n",
            "Epoch 50/300, Loss: 555.822684, 23.575892\n",
            "Epoch 51/300, Loss: 552.690163, 23.509363\n",
            "Epoch 52/300, Loss: 551.085173, 23.475203\n",
            "Epoch 53/300, Loss: 549.261758, 23.436334\n",
            "Epoch 54/300, Loss: 546.428314, 23.375806\n",
            "Epoch 55/300, Loss: 544.486754, 23.334240\n",
            "Epoch 56/300, Loss: 541.315295, 23.266184\n",
            "Epoch 57/300, Loss: 540.388745, 23.246263\n",
            "Epoch 58/300, Loss: 540.305714, 23.244477\n",
            "Epoch 59/300, Loss: 534.672690, 23.122991\n",
            "Epoch 60/300, Loss: 533.488495, 23.097370\n",
            "Epoch 61/300, Loss: 529.530357, 23.011527\n",
            "Epoch 62/300, Loss: 527.685046, 22.971396\n",
            "Epoch 63/300, Loss: 527.081130, 22.958248\n",
            "Epoch 64/300, Loss: 524.911587, 22.910949\n",
            "Epoch 65/300, Loss: 523.600719, 22.882323\n",
            "Epoch 66/300, Loss: 520.129970, 22.806358\n",
            "Epoch 67/300, Loss: 520.646683, 22.817684\n",
            "Epoch 68/300, Loss: 518.641354, 22.773699\n",
            "Epoch 69/300, Loss: 514.724133, 22.687533\n",
            "Epoch 70/300, Loss: 515.936871, 22.714244\n",
            "Epoch 71/300, Loss: 513.823737, 22.667680\n",
            "Epoch 72/300, Loss: 511.331685, 22.612644\n",
            "Epoch 73/300, Loss: 512.579680, 22.640223\n",
            "Epoch 74/300, Loss: 508.117096, 22.541453\n",
            "Epoch 75/300, Loss: 507.065935, 22.518125\n",
            "Epoch 76/300, Loss: 506.797037, 22.512153\n",
            "Epoch 77/300, Loss: 507.293346, 22.523174\n",
            "Epoch 78/300, Loss: 503.333309, 22.435091\n",
            "Epoch 79/300, Loss: 500.964057, 22.382226\n",
            "Epoch 80/300, Loss: 501.133176, 22.386004\n",
            "Epoch 81/300, Loss: 499.216073, 22.343144\n",
            "Epoch 82/300, Loss: 498.259518, 22.321727\n",
            "Epoch 83/300, Loss: 497.330949, 22.300918\n",
            "Epoch 84/300, Loss: 497.700135, 22.309194\n",
            "Epoch 85/300, Loss: 494.799022, 22.244078\n",
            "Epoch 86/300, Loss: 494.379128, 22.234638\n",
            "Epoch 87/300, Loss: 493.012375, 22.203882\n",
            "Epoch 88/300, Loss: 491.131606, 22.161489\n",
            "Epoch 89/300, Loss: 490.674980, 22.151185\n",
            "Epoch 90/300, Loss: 490.732518, 22.152483\n",
            "Epoch 91/300, Loss: 488.275408, 22.096955\n",
            "Epoch 92/300, Loss: 489.403703, 22.122471\n",
            "Epoch 93/300, Loss: 486.873453, 22.065209\n",
            "Epoch 94/300, Loss: 487.191055, 22.072405\n",
            "Epoch 95/300, Loss: 486.470724, 22.056081\n",
            "Epoch 96/300, Loss: 486.957073, 22.067104\n",
            "Epoch 97/300, Loss: 483.323201, 21.984613\n",
            "Epoch 98/300, Loss: 483.162489, 21.980957\n",
            "Epoch 99/300, Loss: 480.881326, 21.929007\n",
            "Epoch 100/300, Loss: 480.582132, 21.922184\n",
            "Epoch 101/300, Loss: 481.028964, 21.932373\n",
            "Epoch 102/300, Loss: 478.274559, 21.869489\n",
            "Epoch 103/300, Loss: 477.459470, 21.850846\n",
            "Epoch 104/300, Loss: 476.594711, 21.831049\n",
            "Epoch 105/300, Loss: 476.161749, 21.821131\n",
            "Epoch 106/300, Loss: 474.562460, 21.784455\n",
            "Epoch 107/300, Loss: 474.423439, 21.781263\n",
            "Epoch 108/300, Loss: 474.467371, 21.782272\n",
            "Epoch 109/300, Loss: 472.432097, 21.735503\n",
            "Epoch 110/300, Loss: 472.723006, 21.742194\n",
            "Epoch 111/300, Loss: 472.107479, 21.728034\n",
            "Epoch 112/300, Loss: 470.859613, 21.699300\n",
            "Epoch 113/300, Loss: 470.559136, 21.692375\n",
            "Epoch 114/300, Loss: 470.204824, 21.684207\n",
            "Epoch 115/300, Loss: 469.666031, 21.671780\n",
            "Epoch 116/300, Loss: 469.417048, 21.666034\n",
            "Epoch 117/300, Loss: 468.740298, 21.650411\n",
            "Epoch 118/300, Loss: 469.960188, 21.678565\n",
            "Epoch 119/300, Loss: 466.227555, 21.592303\n",
            "Epoch 120/300, Loss: 466.756074, 21.604538\n",
            "Epoch 121/300, Loss: 466.659528, 21.602304\n",
            "Epoch 122/300, Loss: 465.008476, 21.564055\n",
            "Epoch 123/300, Loss: 463.999737, 21.540653\n",
            "Epoch 124/300, Loss: 464.100475, 21.542991\n",
            "Epoch 125/300, Loss: 464.878367, 21.561038\n",
            "Epoch 126/300, Loss: 462.446793, 21.504576\n",
            "Epoch 127/300, Loss: 461.194516, 21.475440\n",
            "Epoch 128/300, Loss: 461.990603, 21.493967\n",
            "Epoch 129/300, Loss: 460.816230, 21.466631\n",
            "Epoch 130/300, Loss: 461.811850, 21.489808\n",
            "Epoch 131/300, Loss: 459.108510, 21.426818\n",
            "Epoch 132/300, Loss: 460.245630, 21.453336\n",
            "Epoch 133/300, Loss: 459.383860, 21.433242\n",
            "Epoch 134/300, Loss: 457.823561, 21.396812\n",
            "Epoch 135/300, Loss: 458.996214, 21.424197\n",
            "Epoch 136/300, Loss: 457.773092, 21.395633\n",
            "Epoch 137/300, Loss: 456.514863, 21.366208\n",
            "Epoch 138/300, Loss: 456.149436, 21.357655\n",
            "Epoch 139/300, Loss: 456.225886, 21.359445\n",
            "Epoch 140/300, Loss: 456.299958, 21.361179\n",
            "Epoch 141/300, Loss: 454.682235, 21.323279\n",
            "Epoch 142/300, Loss: 454.306336, 21.314463\n",
            "Epoch 143/300, Loss: 453.703086, 21.300307\n",
            "Epoch 144/300, Loss: 453.612643, 21.298184\n",
            "Epoch 145/300, Loss: 452.652254, 21.275626\n",
            "Epoch 146/300, Loss: 453.738291, 21.301134\n",
            "Epoch 147/300, Loss: 451.283406, 21.243432\n",
            "Epoch 148/300, Loss: 451.852768, 21.256829\n",
            "Epoch 149/300, Loss: 451.891137, 21.257731\n",
            "Epoch 150/300, Loss: 450.615746, 21.227712\n",
            "Epoch 151/300, Loss: 450.866609, 21.233620\n",
            "Epoch 152/300, Loss: 450.197907, 21.217868\n",
            "Epoch 153/300, Loss: 450.450841, 21.223827\n",
            "Epoch 154/300, Loss: 451.075900, 21.238548\n",
            "Epoch 155/300, Loss: 449.799251, 21.208471\n",
            "Epoch 156/300, Loss: 447.466085, 21.153394\n",
            "Epoch 157/300, Loss: 449.064891, 21.191151\n",
            "Epoch 158/300, Loss: 448.244975, 21.171797\n",
            "Epoch 159/300, Loss: 447.023136, 21.142922\n",
            "Epoch 160/300, Loss: 447.640779, 21.157523\n",
            "Epoch 161/300, Loss: 446.697249, 21.135213\n",
            "Epoch 162/300, Loss: 446.705589, 21.135411\n",
            "Epoch 163/300, Loss: 446.431580, 21.128928\n",
            "Epoch 164/300, Loss: 445.579886, 21.108763\n",
            "Epoch 165/300, Loss: 445.052176, 21.096260\n",
            "Epoch 166/300, Loss: 444.903320, 21.092731\n",
            "Epoch 167/300, Loss: 445.676089, 21.111042\n",
            "Epoch 168/300, Loss: 443.433178, 21.057853\n",
            "Epoch 169/300, Loss: 442.887336, 21.044889\n",
            "Epoch 170/300, Loss: 444.297751, 21.078372\n",
            "Epoch 171/300, Loss: 443.469098, 21.058706\n",
            "Epoch 172/300, Loss: 443.588469, 21.061540\n",
            "Epoch 173/300, Loss: 444.062929, 21.072801\n",
            "Epoch 174/300, Loss: 441.735795, 21.017512\n",
            "Epoch 175/300, Loss: 441.291093, 21.006930\n",
            "Epoch 176/300, Loss: 442.261567, 21.030016\n",
            "Epoch 177/300, Loss: 442.803316, 21.042892\n",
            "Epoch 178/300, Loss: 440.555417, 20.989412\n",
            "Epoch 179/300, Loss: 440.197180, 20.980877\n",
            "Epoch 180/300, Loss: 440.951509, 20.998845\n",
            "Epoch 181/300, Loss: 441.288789, 21.006875\n",
            "Epoch 182/300, Loss: 439.450772, 20.963081\n",
            "Epoch 183/300, Loss: 439.596514, 20.966557\n",
            "Epoch 184/300, Loss: 438.418546, 20.938447\n",
            "Epoch 185/300, Loss: 439.283842, 20.959099\n",
            "Epoch 186/300, Loss: 438.936298, 20.950807\n",
            "Epoch 187/300, Loss: 438.313112, 20.935929\n",
            "Epoch 188/300, Loss: 438.899627, 20.949931\n",
            "Epoch 189/300, Loss: 438.131932, 20.931601\n",
            "Epoch 190/300, Loss: 437.439335, 20.915050\n",
            "Epoch 191/300, Loss: 437.748532, 20.922441\n",
            "Epoch 192/300, Loss: 438.219599, 20.933695\n",
            "Epoch 193/300, Loss: 435.640208, 20.871996\n",
            "Epoch 194/300, Loss: 437.559592, 20.917925\n",
            "Epoch 195/300, Loss: 436.750515, 20.898577\n",
            "Epoch 196/300, Loss: 436.289300, 20.887539\n",
            "Epoch 197/300, Loss: 436.390211, 20.889955\n",
            "Epoch 198/300, Loss: 435.152841, 20.860317\n",
            "Epoch 199/300, Loss: 435.523238, 20.869194\n",
            "Epoch 200/300, Loss: 434.998268, 20.856612\n",
            "Epoch 201/300, Loss: 434.604079, 20.847160\n",
            "Epoch 202/300, Loss: 435.105932, 20.859193\n",
            "Epoch 203/300, Loss: 434.191852, 20.837271\n",
            "Epoch 204/300, Loss: 433.941390, 20.831260\n",
            "Epoch 205/300, Loss: 434.326317, 20.840497\n",
            "Epoch 206/300, Loss: 435.687253, 20.873123\n",
            "Epoch 207/300, Loss: 432.177221, 20.788873\n",
            "Epoch 208/300, Loss: 432.971700, 20.807972\n",
            "Epoch 209/300, Loss: 433.052172, 20.809906\n",
            "Epoch 210/300, Loss: 433.146214, 20.812165\n",
            "Epoch 211/300, Loss: 433.217747, 20.813884\n",
            "Epoch 212/300, Loss: 432.173691, 20.788788\n",
            "Epoch 213/300, Loss: 432.370127, 20.793512\n",
            "Epoch 214/300, Loss: 430.858761, 20.757138\n",
            "Epoch 215/300, Loss: 430.922483, 20.758672\n",
            "Epoch 216/300, Loss: 431.441807, 20.771177\n",
            "Epoch 217/300, Loss: 432.114998, 20.787376\n",
            "Epoch 218/300, Loss: 431.017893, 20.760970\n",
            "Epoch 219/300, Loss: 430.809996, 20.755963\n",
            "Epoch 220/300, Loss: 429.953774, 20.735327\n",
            "Epoch 221/300, Loss: 429.700109, 20.729209\n",
            "Epoch 222/300, Loss: 429.636928, 20.727685\n",
            "Epoch 223/300, Loss: 429.341534, 20.720558\n",
            "Epoch 224/300, Loss: 431.165916, 20.764535\n",
            "Epoch 225/300, Loss: 428.513428, 20.700566\n",
            "Epoch 226/300, Loss: 428.672323, 20.704403\n",
            "Epoch 227/300, Loss: 427.761288, 20.682391\n",
            "Epoch 228/300, Loss: 428.714862, 20.705431\n",
            "Epoch 229/300, Loss: 427.990391, 20.687929\n",
            "Epoch 230/300, Loss: 427.220231, 20.669306\n",
            "Epoch 231/300, Loss: 427.668609, 20.680150\n",
            "Epoch 232/300, Loss: 428.062424, 20.689669\n",
            "Epoch 233/300, Loss: 426.909412, 20.661786\n",
            "Epoch 234/300, Loss: 427.083959, 20.666010\n",
            "Epoch 235/300, Loss: 426.757326, 20.658106\n",
            "Epoch 236/300, Loss: 426.286402, 20.646704\n",
            "Epoch 237/300, Loss: 427.441873, 20.674667\n",
            "Epoch 238/300, Loss: 425.266323, 20.621986\n",
            "Epoch 239/300, Loss: 425.720740, 20.633001\n",
            "Epoch 240/300, Loss: 425.211431, 20.620655\n",
            "Epoch 241/300, Loss: 426.228057, 20.645291\n",
            "Epoch 242/300, Loss: 425.147834, 20.619113\n",
            "Epoch 243/300, Loss: 424.969382, 20.614786\n",
            "Epoch 244/300, Loss: 424.699821, 20.608246\n",
            "Epoch 245/300, Loss: 425.845695, 20.636029\n",
            "Epoch 246/300, Loss: 423.295604, 20.574149\n",
            "Epoch 247/300, Loss: 424.367477, 20.600181\n",
            "Epoch 248/300, Loss: 423.760497, 20.585444\n",
            "Epoch 249/300, Loss: 422.550177, 20.556025\n",
            "Epoch 250/300, Loss: 423.418418, 20.577133\n",
            "Epoch 251/300, Loss: 425.351999, 20.624064\n",
            "Epoch 252/300, Loss: 424.070797, 20.592979\n",
            "Epoch 253/300, Loss: 424.419608, 20.601447\n",
            "Epoch 254/300, Loss: 423.463147, 20.578220\n",
            "Epoch 255/300, Loss: 423.195715, 20.571721\n",
            "Epoch 256/300, Loss: 423.791724, 20.586202\n",
            "Epoch 257/300, Loss: 421.874241, 20.539577\n",
            "Epoch 258/300, Loss: 422.671337, 20.558972\n",
            "Epoch 259/300, Loss: 423.749287, 20.585172\n",
            "Epoch 260/300, Loss: 422.312063, 20.550233\n",
            "Epoch 261/300, Loss: 421.171120, 20.522454\n",
            "Epoch 262/300, Loss: 421.674601, 20.534717\n",
            "Epoch 263/300, Loss: 420.869378, 20.515101\n",
            "Epoch 264/300, Loss: 421.179593, 20.522660\n",
            "Epoch 265/300, Loss: 419.180382, 20.473895\n",
            "Epoch 266/300, Loss: 420.272698, 20.500554\n",
            "Epoch 267/300, Loss: 419.828862, 20.489726\n",
            "Epoch 268/300, Loss: 420.480171, 20.505613\n",
            "Epoch 269/300, Loss: 419.693927, 20.486433\n",
            "Epoch 270/300, Loss: 420.387328, 20.503349\n",
            "Epoch 271/300, Loss: 418.714356, 20.462511\n",
            "Epoch 272/300, Loss: 420.541546, 20.507110\n",
            "Epoch 273/300, Loss: 419.880212, 20.490979\n",
            "Epoch 274/300, Loss: 420.169373, 20.498033\n",
            "Epoch 275/300, Loss: 419.193443, 20.474214\n",
            "Epoch 276/300, Loss: 419.971434, 20.493205\n",
            "Epoch 277/300, Loss: 419.766740, 20.488210\n",
            "Epoch 278/300, Loss: 418.195969, 20.449840\n",
            "Epoch 279/300, Loss: 417.534715, 20.433666\n",
            "Epoch 280/300, Loss: 418.179473, 20.449437\n",
            "Epoch 281/300, Loss: 418.938843, 20.467996\n",
            "Epoch 282/300, Loss: 418.736361, 20.463049\n",
            "Epoch 283/300, Loss: 417.906217, 20.442755\n",
            "Epoch 284/300, Loss: 417.874703, 20.441984\n",
            "Epoch 285/300, Loss: 417.527606, 20.433492\n",
            "Epoch 286/300, Loss: 418.102450, 20.447554\n",
            "Epoch 287/300, Loss: 416.252931, 20.402278\n",
            "Epoch 288/300, Loss: 416.918532, 20.418583\n",
            "Epoch 289/300, Loss: 417.284117, 20.427533\n",
            "Epoch 290/300, Loss: 417.186687, 20.425148\n",
            "Epoch 291/300, Loss: 416.880359, 20.417648\n",
            "Epoch 292/300, Loss: 416.714667, 20.413590\n",
            "Epoch 293/300, Loss: 416.809657, 20.415917\n",
            "Epoch 294/300, Loss: 416.523150, 20.408899\n",
            "Epoch 295/300, Loss: 415.980679, 20.395604\n",
            "Epoch 296/300, Loss: 414.900083, 20.369096\n",
            "Epoch 297/300, Loss: 415.408554, 20.381574\n",
            "Epoch 298/300, Loss: 415.706430, 20.388880\n",
            "Epoch 299/300, Loss: 414.821960, 20.367179\n",
            "Epoch 300/300, Loss: 414.545064, 20.360380\n"
          ]
        },
        {
          "data": {
            "image/png": "[encoded data removed]",
            "text/plain": [
              "<Figure size 640x480 with 1 Axes>"
            ]
          },
          "metadata": {},
          "output_type": "display_data"
        }
      ],
      "source": [
        "device = torch.device(\"cuda\" if torch.cuda.is_available() else \"cpu\")\n",
        "model = CNN_LSTM().to(device)\n",
        "criterion = CustomLoss().to(device)\n",
        "optimizer = optim.Adam(model.parameters(), lr=0.0005, weight_decay=1e-5)\n",
        "epochs = 300\n",
        "losses = list()\n",
        "for epoch in range(epochs):\n",
        "    model.train()\n",
        "    total_loss = 0\n",
        "    for X_batch, y_batch in train_loader:\n",
        "        X_batch, y_batch = X_batch.to(device), y_batch.to(device)\n",
        "\n",
        "        optimizer.zero_grad()\n",
        "        y_pred = model(X_batch)\n",
        "        loss = criterion(y_pred, y_batch)\n",
        "        loss.backward()\n",
        "        optimizer.step()\n",
        "\n",
        "        total_loss += loss.item()\n",
        "        train_loss = total_loss / len(train_loader)\n",
        "    losses.append(train_loss)\n",
        "\n",
        "    print(f\"Epoch {epoch+1}/{epochs}, Loss: {train_loss:.6f}, {math.sqrt(train_loss):.6f}\")\n",
        "\n",
        "plt.plot(losses)\n",
        "plt.xlabel('Epochs')\n",
        "plt.ylabel('Loss')\n",
        "plt.title('Training Loss')\n",
        "plt.grid()\n",
        "plt.show()"
      ]
    },
    {
      "cell_type": "code",
      "execution_count": 24,
      "metadata": {
        "id": "-QZG9q566ylB"
      },
      "outputs": [],
      "source": [
        "model.eval()\n",
        "predictions = []\n",
        "actuals = []\n",
        "\n",
        "# Score en test\n",
        "with torch.no_grad():\n",
        "    for X_batch, y_batch in test_loader:\n",
        "        X_batch, y_batch = X_batch.to(device), y_batch.to(device)\n",
        "        y_pred = model(X_batch)\n",
        "\n",
        "        predictions.append(y_pred.cpu().numpy())\n",
        "        actuals.append(y_batch.cpu().numpy())\n",
        "\n",
        "# Convertir listas en arrays\n",
        "predictions_test = np.concatenate(predictions).reshape(-1, 5)\n",
        "actuals_test = np.concatenate(actuals).reshape(-1, 5)\n",
        "\n",
        "# Score en train\n",
        "with torch.no_grad():\n",
        "    for X_batch, y_batch in train_loader:\n",
        "        X_batch, y_batch = X_batch.to(device), y_batch.to(device)\n",
        "        y_pred = model(X_batch)\n",
        "\n",
        "        predictions.append(y_pred.cpu().numpy())\n",
        "        actuals.append(y_batch.cpu().numpy())\n",
        "\n",
        "# Convertir listas en arrays\n",
        "predictions_train = np.concatenate(predictions).reshape(-1, 5)\n",
        "actuals_train = np.concatenate(actuals).reshape(-1, 5)"
      ]
    },
    {
      "cell_type": "code",
      "execution_count": 25,
      "metadata": {
        "id": "VtM2sOEp6yiZ"
      },
      "outputs": [
        {
          "name": "stdout",
          "output_type": "stream",
          "text": [
            "Evaluación del modelo:\n",
            "MAE Train: 0.15632923 MAE Test: 0.21326174\n",
            "MSE Train: 0.05027962 MSE Test: 0.0990598\n",
            "RMSE Train: 0.22423118 RMSE Test: 0.31473768\n"
          ]
        }
      ],
      "source": [
        "print(\"Evaluación del modelo:\")\n",
        "print(\"MAE Train:\", np.mean(np.abs(predictions_train - actuals_train)),\n",
        "      \"MAE Test:\", np.mean(np.abs(predictions_test - actuals_test)))\n",
        "print(\"MSE Train:\", np.mean((predictions_train - actuals_train) ** 2),\n",
        "      \"MSE Test:\", np.mean((predictions_test - actuals_test) ** 2))\n",
        "print(\"RMSE Train:\", np.sqrt(np.mean((predictions_train - actuals_train) ** 2)),\n",
        "      \"RMSE Test:\", np.sqrt(np.mean((predictions_test - actuals_test) ** 2)))"
      ]
    },
    {
      "cell_type": "markdown",
      "metadata": {},
      "source": [
        "**V3 eval (20 epochs)**\n",
        "\n",
        "Evaluación del modelo:\n",
        "\n",
        "MAE Train: 0.18253075 MAE Test: 0.2004847\n",
        "\n",
        "MSE Train: 0.069595456 MSE Test: 0.08929114\n",
        "\n",
        "RMSE Train: 0.2638095 RMSE Test: 0.29881623\n",
        "\n",
        "**V3 eval (50 epochs)**\n",
        "\n",
        "Evaluación del modelo:\n",
        "\n",
        "MAE Train: 0.16946502 MAE Test: 0.2032147\n",
        "\n",
        "MSE Train: 0.05865383 MSE Test: 0.09112888\n",
        "\n",
        "RMSE Train: 0.24218553 RMSE Test: 0.3018756\n",
        "\n",
        "**V3 eval (300 epochs)**\n",
        "\n",
        "MAE Train: 0.15632923 MAE Test: 0.21326174\n",
        "\n",
        "MSE Train: 0.05027962 MSE Test: 0.0990598\n",
        "\n",
        "RMSE Train: 0.22423118 RMSE Test: 0.31473768"
      ]
    },
    {
      "cell_type": "code",
      "execution_count": null,
      "metadata": {
        "id": "RSCsJRXw6ygD"
      },
      "outputs": [],
      "source": [
        "torch.save(model.state_dict(), \"../weights/cnn_lstm_index_v3_weights_3.pth\")\n",
        "torch.save(model, \"../models/cnn_lstm_index_v3_model_3.pth\")"
      ]
    },
    {
      "cell_type": "code",
      "execution_count": null,
      "metadata": {
        "id": "AwxJkDgo6ydY"
      },
      "outputs": [],
      "source": []
    }
  ],
  "metadata": {
    "accelerator": "GPU",
    "colab": {
      "gpuType": "T4",
      "provenance": []
    },
    "kernelspec": {
      "display_name": "base",
      "language": "python",
      "name": "python3"
    },
    "language_info": {
      "codemirror_mode": {
        "name": "ipython",
        "version": 3
      },
      "file_extension": ".py",
      "mimetype": "text/x-python",
      "name": "python",
      "nbconvert_exporter": "python",
      "pygments_lexer": "ipython3",
      "version": "3.11.7"
    }
  },
  "nbformat": 4,
  "nbformat_minor": 0
}
